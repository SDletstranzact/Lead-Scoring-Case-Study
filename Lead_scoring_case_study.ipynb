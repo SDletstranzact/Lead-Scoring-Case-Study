{
 "cells": [
  {
   "cell_type": "code",
   "execution_count": 1,
   "metadata": {
    "id": "7ZNKEK7p4MHa"
   },
   "outputs": [],
   "source": [
    "# Suppressing Warnings\n",
    "import warnings\n",
    "warnings.filterwarnings('ignore')"
   ]
  },
  {
   "cell_type": "code",
   "execution_count": 2,
   "metadata": {
    "id": "wvL4tvvs45vF"
   },
   "outputs": [],
   "source": [
    "# Importing Pandas and NumPy\n",
    "import pandas as pd, numpy as np\n",
    "\n",
    "import matplotlib.pyplot as plt\n",
    "import seaborn as sns"
   ]
  },
  {
   "cell_type": "code",
   "execution_count": 3,
   "metadata": {
    "colab": {
     "base_uri": "https://localhost:8080/",
     "height": 585
    },
    "id": "fmseIGvq47L8",
    "outputId": "19593c91-103d-4d12-a1b0-26b399a1885d"
   },
   "outputs": [
    {
     "data": {
      "text/html": [
       "<div>\n",
       "<style scoped>\n",
       "    .dataframe tbody tr th:only-of-type {\n",
       "        vertical-align: middle;\n",
       "    }\n",
       "\n",
       "    .dataframe tbody tr th {\n",
       "        vertical-align: top;\n",
       "    }\n",
       "\n",
       "    .dataframe thead th {\n",
       "        text-align: right;\n",
       "    }\n",
       "</style>\n",
       "<table border=\"1\" class=\"dataframe\">\n",
       "  <thead>\n",
       "    <tr style=\"text-align: right;\">\n",
       "      <th></th>\n",
       "      <th>Prospect ID</th>\n",
       "      <th>Lead Number</th>\n",
       "      <th>Lead Origin</th>\n",
       "      <th>Lead Source</th>\n",
       "      <th>Do Not Email</th>\n",
       "      <th>Do Not Call</th>\n",
       "      <th>Converted</th>\n",
       "      <th>TotalVisits</th>\n",
       "      <th>Total Time Spent on Website</th>\n",
       "      <th>Page Views Per Visit</th>\n",
       "      <th>...</th>\n",
       "      <th>Get updates on DM Content</th>\n",
       "      <th>Lead Profile</th>\n",
       "      <th>City</th>\n",
       "      <th>Asymmetrique Activity Index</th>\n",
       "      <th>Asymmetrique Profile Index</th>\n",
       "      <th>Asymmetrique Activity Score</th>\n",
       "      <th>Asymmetrique Profile Score</th>\n",
       "      <th>I agree to pay the amount through cheque</th>\n",
       "      <th>A free copy of Mastering The Interview</th>\n",
       "      <th>Last Notable Activity</th>\n",
       "    </tr>\n",
       "  </thead>\n",
       "  <tbody>\n",
       "    <tr>\n",
       "      <th>0</th>\n",
       "      <td>7927b2df-8bba-4d29-b9a2-b6e0beafe620</td>\n",
       "      <td>660737</td>\n",
       "      <td>API</td>\n",
       "      <td>Olark Chat</td>\n",
       "      <td>No</td>\n",
       "      <td>No</td>\n",
       "      <td>0</td>\n",
       "      <td>0.0</td>\n",
       "      <td>0</td>\n",
       "      <td>0.0</td>\n",
       "      <td>...</td>\n",
       "      <td>No</td>\n",
       "      <td>Select</td>\n",
       "      <td>Select</td>\n",
       "      <td>02.Medium</td>\n",
       "      <td>02.Medium</td>\n",
       "      <td>15.0</td>\n",
       "      <td>15.0</td>\n",
       "      <td>No</td>\n",
       "      <td>No</td>\n",
       "      <td>Modified</td>\n",
       "    </tr>\n",
       "    <tr>\n",
       "      <th>1</th>\n",
       "      <td>2a272436-5132-4136-86fa-dcc88c88f482</td>\n",
       "      <td>660728</td>\n",
       "      <td>API</td>\n",
       "      <td>Organic Search</td>\n",
       "      <td>No</td>\n",
       "      <td>No</td>\n",
       "      <td>0</td>\n",
       "      <td>5.0</td>\n",
       "      <td>674</td>\n",
       "      <td>2.5</td>\n",
       "      <td>...</td>\n",
       "      <td>No</td>\n",
       "      <td>Select</td>\n",
       "      <td>Select</td>\n",
       "      <td>02.Medium</td>\n",
       "      <td>02.Medium</td>\n",
       "      <td>15.0</td>\n",
       "      <td>15.0</td>\n",
       "      <td>No</td>\n",
       "      <td>No</td>\n",
       "      <td>Email Opened</td>\n",
       "    </tr>\n",
       "    <tr>\n",
       "      <th>2</th>\n",
       "      <td>8cc8c611-a219-4f35-ad23-fdfd2656bd8a</td>\n",
       "      <td>660727</td>\n",
       "      <td>Landing Page Submission</td>\n",
       "      <td>Direct Traffic</td>\n",
       "      <td>No</td>\n",
       "      <td>No</td>\n",
       "      <td>1</td>\n",
       "      <td>2.0</td>\n",
       "      <td>1532</td>\n",
       "      <td>2.0</td>\n",
       "      <td>...</td>\n",
       "      <td>No</td>\n",
       "      <td>Potential Lead</td>\n",
       "      <td>Mumbai</td>\n",
       "      <td>02.Medium</td>\n",
       "      <td>01.High</td>\n",
       "      <td>14.0</td>\n",
       "      <td>20.0</td>\n",
       "      <td>No</td>\n",
       "      <td>Yes</td>\n",
       "      <td>Email Opened</td>\n",
       "    </tr>\n",
       "    <tr>\n",
       "      <th>3</th>\n",
       "      <td>0cc2df48-7cf4-4e39-9de9-19797f9b38cc</td>\n",
       "      <td>660719</td>\n",
       "      <td>Landing Page Submission</td>\n",
       "      <td>Direct Traffic</td>\n",
       "      <td>No</td>\n",
       "      <td>No</td>\n",
       "      <td>0</td>\n",
       "      <td>1.0</td>\n",
       "      <td>305</td>\n",
       "      <td>1.0</td>\n",
       "      <td>...</td>\n",
       "      <td>No</td>\n",
       "      <td>Select</td>\n",
       "      <td>Mumbai</td>\n",
       "      <td>02.Medium</td>\n",
       "      <td>01.High</td>\n",
       "      <td>13.0</td>\n",
       "      <td>17.0</td>\n",
       "      <td>No</td>\n",
       "      <td>No</td>\n",
       "      <td>Modified</td>\n",
       "    </tr>\n",
       "    <tr>\n",
       "      <th>4</th>\n",
       "      <td>3256f628-e534-4826-9d63-4a8b88782852</td>\n",
       "      <td>660681</td>\n",
       "      <td>Landing Page Submission</td>\n",
       "      <td>Google</td>\n",
       "      <td>No</td>\n",
       "      <td>No</td>\n",
       "      <td>1</td>\n",
       "      <td>2.0</td>\n",
       "      <td>1428</td>\n",
       "      <td>1.0</td>\n",
       "      <td>...</td>\n",
       "      <td>No</td>\n",
       "      <td>Select</td>\n",
       "      <td>Mumbai</td>\n",
       "      <td>02.Medium</td>\n",
       "      <td>01.High</td>\n",
       "      <td>15.0</td>\n",
       "      <td>18.0</td>\n",
       "      <td>No</td>\n",
       "      <td>No</td>\n",
       "      <td>Modified</td>\n",
       "    </tr>\n",
       "  </tbody>\n",
       "</table>\n",
       "<p>5 rows × 37 columns</p>\n",
       "</div>"
      ],
      "text/plain": [
       "                            Prospect ID  Lead Number              Lead Origin  \\\n",
       "0  7927b2df-8bba-4d29-b9a2-b6e0beafe620       660737                      API   \n",
       "1  2a272436-5132-4136-86fa-dcc88c88f482       660728                      API   \n",
       "2  8cc8c611-a219-4f35-ad23-fdfd2656bd8a       660727  Landing Page Submission   \n",
       "3  0cc2df48-7cf4-4e39-9de9-19797f9b38cc       660719  Landing Page Submission   \n",
       "4  3256f628-e534-4826-9d63-4a8b88782852       660681  Landing Page Submission   \n",
       "\n",
       "      Lead Source Do Not Email Do Not Call  Converted  TotalVisits  \\\n",
       "0      Olark Chat           No          No          0          0.0   \n",
       "1  Organic Search           No          No          0          5.0   \n",
       "2  Direct Traffic           No          No          1          2.0   \n",
       "3  Direct Traffic           No          No          0          1.0   \n",
       "4          Google           No          No          1          2.0   \n",
       "\n",
       "   Total Time Spent on Website  Page Views Per Visit  ...  \\\n",
       "0                            0                   0.0  ...   \n",
       "1                          674                   2.5  ...   \n",
       "2                         1532                   2.0  ...   \n",
       "3                          305                   1.0  ...   \n",
       "4                         1428                   1.0  ...   \n",
       "\n",
       "  Get updates on DM Content    Lead Profile    City  \\\n",
       "0                        No          Select  Select   \n",
       "1                        No          Select  Select   \n",
       "2                        No  Potential Lead  Mumbai   \n",
       "3                        No          Select  Mumbai   \n",
       "4                        No          Select  Mumbai   \n",
       "\n",
       "  Asymmetrique Activity Index Asymmetrique Profile Index  \\\n",
       "0                   02.Medium                  02.Medium   \n",
       "1                   02.Medium                  02.Medium   \n",
       "2                   02.Medium                    01.High   \n",
       "3                   02.Medium                    01.High   \n",
       "4                   02.Medium                    01.High   \n",
       "\n",
       "  Asymmetrique Activity Score Asymmetrique Profile Score  \\\n",
       "0                        15.0                       15.0   \n",
       "1                        15.0                       15.0   \n",
       "2                        14.0                       20.0   \n",
       "3                        13.0                       17.0   \n",
       "4                        15.0                       18.0   \n",
       "\n",
       "  I agree to pay the amount through cheque  \\\n",
       "0                                       No   \n",
       "1                                       No   \n",
       "2                                       No   \n",
       "3                                       No   \n",
       "4                                       No   \n",
       "\n",
       "  A free copy of Mastering The Interview Last Notable Activity  \n",
       "0                                     No              Modified  \n",
       "1                                     No          Email Opened  \n",
       "2                                    Yes          Email Opened  \n",
       "3                                     No              Modified  \n",
       "4                                     No              Modified  \n",
       "\n",
       "[5 rows x 37 columns]"
      ]
     },
     "execution_count": 3,
     "metadata": {},
     "output_type": "execute_result"
    }
   ],
   "source": [
    "leads=pd.read_csv(\"/Users/shagund/Downloads/Lead Scoring Assignment/Leads.csv\")\n",
    "leads.head()"
   ]
  },
  {
   "cell_type": "code",
   "execution_count": 4,
   "metadata": {
    "colab": {
     "base_uri": "https://localhost:8080/"
    },
    "id": "w_xvTPrv47PH",
    "outputId": "c9894ac9-b763-4511-98ec-26c8f242feed"
   },
   "outputs": [
    {
     "data": {
      "text/plain": [
       "(9240, 37)"
      ]
     },
     "execution_count": 4,
     "metadata": {},
     "output_type": "execute_result"
    }
   ],
   "source": [
    "leads.shape"
   ]
  },
  {
   "cell_type": "code",
   "execution_count": 5,
   "metadata": {
    "colab": {
     "base_uri": "https://localhost:8080/"
    },
    "id": "1RS3enV447SK",
    "outputId": "02d84b3b-306e-4906-fd96-63b4bb3697e5"
   },
   "outputs": [
    {
     "name": "stdout",
     "output_type": "stream",
     "text": [
      "<class 'pandas.core.frame.DataFrame'>\n",
      "RangeIndex: 9240 entries, 0 to 9239\n",
      "Data columns (total 37 columns):\n",
      " #   Column                                         Non-Null Count  Dtype  \n",
      "---  ------                                         --------------  -----  \n",
      " 0   Prospect ID                                    9240 non-null   object \n",
      " 1   Lead Number                                    9240 non-null   int64  \n",
      " 2   Lead Origin                                    9240 non-null   object \n",
      " 3   Lead Source                                    9204 non-null   object \n",
      " 4   Do Not Email                                   9240 non-null   object \n",
      " 5   Do Not Call                                    9240 non-null   object \n",
      " 6   Converted                                      9240 non-null   int64  \n",
      " 7   TotalVisits                                    9103 non-null   float64\n",
      " 8   Total Time Spent on Website                    9240 non-null   int64  \n",
      " 9   Page Views Per Visit                           9103 non-null   float64\n",
      " 10  Last Activity                                  9137 non-null   object \n",
      " 11  Country                                        6779 non-null   object \n",
      " 12  Specialization                                 7802 non-null   object \n",
      " 13  How did you hear about X Education             7033 non-null   object \n",
      " 14  What is your current occupation                6550 non-null   object \n",
      " 15  What matters most to you in choosing a course  6531 non-null   object \n",
      " 16  Search                                         9240 non-null   object \n",
      " 17  Magazine                                       9240 non-null   object \n",
      " 18  Newspaper Article                              9240 non-null   object \n",
      " 19  X Education Forums                             9240 non-null   object \n",
      " 20  Newspaper                                      9240 non-null   object \n",
      " 21  Digital Advertisement                          9240 non-null   object \n",
      " 22  Through Recommendations                        9240 non-null   object \n",
      " 23  Receive More Updates About Our Courses         9240 non-null   object \n",
      " 24  Tags                                           5887 non-null   object \n",
      " 25  Lead Quality                                   4473 non-null   object \n",
      " 26  Update me on Supply Chain Content              9240 non-null   object \n",
      " 27  Get updates on DM Content                      9240 non-null   object \n",
      " 28  Lead Profile                                   6531 non-null   object \n",
      " 29  City                                           7820 non-null   object \n",
      " 30  Asymmetrique Activity Index                    5022 non-null   object \n",
      " 31  Asymmetrique Profile Index                     5022 non-null   object \n",
      " 32  Asymmetrique Activity Score                    5022 non-null   float64\n",
      " 33  Asymmetrique Profile Score                     5022 non-null   float64\n",
      " 34  I agree to pay the amount through cheque       9240 non-null   object \n",
      " 35  A free copy of Mastering The Interview         9240 non-null   object \n",
      " 36  Last Notable Activity                          9240 non-null   object \n",
      "dtypes: float64(4), int64(3), object(30)\n",
      "memory usage: 2.6+ MB\n"
     ]
    }
   ],
   "source": [
    "leads.info()"
   ]
  },
  {
   "cell_type": "code",
   "execution_count": 6,
   "metadata": {
    "colab": {
     "base_uri": "https://localhost:8080/",
     "height": 317
    },
    "id": "rwgOtB_P47VW",
    "outputId": "356ef8c5-00c1-44a2-af54-fe4c425be68d"
   },
   "outputs": [
    {
     "data": {
      "text/html": [
       "<div>\n",
       "<style scoped>\n",
       "    .dataframe tbody tr th:only-of-type {\n",
       "        vertical-align: middle;\n",
       "    }\n",
       "\n",
       "    .dataframe tbody tr th {\n",
       "        vertical-align: top;\n",
       "    }\n",
       "\n",
       "    .dataframe thead th {\n",
       "        text-align: right;\n",
       "    }\n",
       "</style>\n",
       "<table border=\"1\" class=\"dataframe\">\n",
       "  <thead>\n",
       "    <tr style=\"text-align: right;\">\n",
       "      <th></th>\n",
       "      <th>Lead Number</th>\n",
       "      <th>Converted</th>\n",
       "      <th>TotalVisits</th>\n",
       "      <th>Total Time Spent on Website</th>\n",
       "      <th>Page Views Per Visit</th>\n",
       "      <th>Asymmetrique Activity Score</th>\n",
       "      <th>Asymmetrique Profile Score</th>\n",
       "    </tr>\n",
       "  </thead>\n",
       "  <tbody>\n",
       "    <tr>\n",
       "      <th>count</th>\n",
       "      <td>9240.000000</td>\n",
       "      <td>9240.000000</td>\n",
       "      <td>9103.000000</td>\n",
       "      <td>9240.000000</td>\n",
       "      <td>9103.000000</td>\n",
       "      <td>5022.000000</td>\n",
       "      <td>5022.000000</td>\n",
       "    </tr>\n",
       "    <tr>\n",
       "      <th>mean</th>\n",
       "      <td>617188.435606</td>\n",
       "      <td>0.385390</td>\n",
       "      <td>3.445238</td>\n",
       "      <td>487.698268</td>\n",
       "      <td>2.362820</td>\n",
       "      <td>14.306252</td>\n",
       "      <td>16.344883</td>\n",
       "    </tr>\n",
       "    <tr>\n",
       "      <th>std</th>\n",
       "      <td>23405.995698</td>\n",
       "      <td>0.486714</td>\n",
       "      <td>4.854853</td>\n",
       "      <td>548.021466</td>\n",
       "      <td>2.161418</td>\n",
       "      <td>1.386694</td>\n",
       "      <td>1.811395</td>\n",
       "    </tr>\n",
       "    <tr>\n",
       "      <th>min</th>\n",
       "      <td>579533.000000</td>\n",
       "      <td>0.000000</td>\n",
       "      <td>0.000000</td>\n",
       "      <td>0.000000</td>\n",
       "      <td>0.000000</td>\n",
       "      <td>7.000000</td>\n",
       "      <td>11.000000</td>\n",
       "    </tr>\n",
       "    <tr>\n",
       "      <th>25%</th>\n",
       "      <td>596484.500000</td>\n",
       "      <td>0.000000</td>\n",
       "      <td>1.000000</td>\n",
       "      <td>12.000000</td>\n",
       "      <td>1.000000</td>\n",
       "      <td>14.000000</td>\n",
       "      <td>15.000000</td>\n",
       "    </tr>\n",
       "    <tr>\n",
       "      <th>50%</th>\n",
       "      <td>615479.000000</td>\n",
       "      <td>0.000000</td>\n",
       "      <td>3.000000</td>\n",
       "      <td>248.000000</td>\n",
       "      <td>2.000000</td>\n",
       "      <td>14.000000</td>\n",
       "      <td>16.000000</td>\n",
       "    </tr>\n",
       "    <tr>\n",
       "      <th>75%</th>\n",
       "      <td>637387.250000</td>\n",
       "      <td>1.000000</td>\n",
       "      <td>5.000000</td>\n",
       "      <td>936.000000</td>\n",
       "      <td>3.000000</td>\n",
       "      <td>15.000000</td>\n",
       "      <td>18.000000</td>\n",
       "    </tr>\n",
       "    <tr>\n",
       "      <th>max</th>\n",
       "      <td>660737.000000</td>\n",
       "      <td>1.000000</td>\n",
       "      <td>251.000000</td>\n",
       "      <td>2272.000000</td>\n",
       "      <td>55.000000</td>\n",
       "      <td>18.000000</td>\n",
       "      <td>20.000000</td>\n",
       "    </tr>\n",
       "  </tbody>\n",
       "</table>\n",
       "</div>"
      ],
      "text/plain": [
       "         Lead Number    Converted  TotalVisits  Total Time Spent on Website  \\\n",
       "count    9240.000000  9240.000000  9103.000000                  9240.000000   \n",
       "mean   617188.435606     0.385390     3.445238                   487.698268   \n",
       "std     23405.995698     0.486714     4.854853                   548.021466   \n",
       "min    579533.000000     0.000000     0.000000                     0.000000   \n",
       "25%    596484.500000     0.000000     1.000000                    12.000000   \n",
       "50%    615479.000000     0.000000     3.000000                   248.000000   \n",
       "75%    637387.250000     1.000000     5.000000                   936.000000   \n",
       "max    660737.000000     1.000000   251.000000                  2272.000000   \n",
       "\n",
       "       Page Views Per Visit  Asymmetrique Activity Score  \\\n",
       "count           9103.000000                  5022.000000   \n",
       "mean               2.362820                    14.306252   \n",
       "std                2.161418                     1.386694   \n",
       "min                0.000000                     7.000000   \n",
       "25%                1.000000                    14.000000   \n",
       "50%                2.000000                    14.000000   \n",
       "75%                3.000000                    15.000000   \n",
       "max               55.000000                    18.000000   \n",
       "\n",
       "       Asymmetrique Profile Score  \n",
       "count                 5022.000000  \n",
       "mean                    16.344883  \n",
       "std                      1.811395  \n",
       "min                     11.000000  \n",
       "25%                     15.000000  \n",
       "50%                     16.000000  \n",
       "75%                     18.000000  \n",
       "max                     20.000000  "
      ]
     },
     "execution_count": 6,
     "metadata": {},
     "output_type": "execute_result"
    }
   ],
   "source": [
    "leads.describe()"
   ]
  },
  {
   "cell_type": "markdown",
   "metadata": {
    "id": "iQaLCjPi56Fh"
   },
   "source": [
    "**EXPLORATORY DATA ANALYSIS**\n",
    "\n",
    "Data understanding, preparation"
   ]
  },
  {
   "cell_type": "markdown",
   "metadata": {
    "id": "Llqx1x2A6PUu"
   },
   "source": [
    "**Data Cleaning**\n",
    "\n",
    "1)Handling the 'Select' level that is present in many of the categorical variables"
   ]
  },
  {
   "cell_type": "code",
   "execution_count": 7,
   "metadata": {
    "id": "amAy-5Dj47YR"
   },
   "outputs": [],
   "source": [
    "# Converting 'Select' values to NaN.\n",
    "leads = leads.replace('Select', np.nan)"
   ]
  },
  {
   "cell_type": "code",
   "execution_count": 8,
   "metadata": {
    "colab": {
     "base_uri": "https://localhost:8080/",
     "height": 1000
    },
    "id": "qA8gye9E47bY",
    "outputId": "dc55b93b-0aa8-4163-9d86-f9c010e62d6b"
   },
   "outputs": [
    {
     "data": {
      "text/plain": [
       "Prospect ID                                         0\n",
       "Lead Number                                         0\n",
       "Lead Origin                                         0\n",
       "Lead Source                                        36\n",
       "Do Not Email                                        0\n",
       "Do Not Call                                         0\n",
       "Converted                                           0\n",
       "TotalVisits                                       137\n",
       "Total Time Spent on Website                         0\n",
       "Page Views Per Visit                              137\n",
       "Last Activity                                     103\n",
       "Country                                          2461\n",
       "Specialization                                   3380\n",
       "How did you hear about X Education               7250\n",
       "What is your current occupation                  2690\n",
       "What matters most to you in choosing a course    2709\n",
       "Search                                              0\n",
       "Magazine                                            0\n",
       "Newspaper Article                                   0\n",
       "X Education Forums                                  0\n",
       "Newspaper                                           0\n",
       "Digital Advertisement                               0\n",
       "Through Recommendations                             0\n",
       "Receive More Updates About Our Courses              0\n",
       "Tags                                             3353\n",
       "Lead Quality                                     4767\n",
       "Update me on Supply Chain Content                   0\n",
       "Get updates on DM Content                           0\n",
       "Lead Profile                                     6855\n",
       "City                                             3669\n",
       "Asymmetrique Activity Index                      4218\n",
       "Asymmetrique Profile Index                       4218\n",
       "Asymmetrique Activity Score                      4218\n",
       "Asymmetrique Profile Score                       4218\n",
       "I agree to pay the amount through cheque            0\n",
       "A free copy of Mastering The Interview              0\n",
       "Last Notable Activity                               0\n",
       "dtype: int64"
      ]
     },
     "execution_count": 8,
     "metadata": {},
     "output_type": "execute_result"
    }
   ],
   "source": [
    "# checking the columns for null values\n",
    "leads.isnull().sum()"
   ]
  },
  {
   "cell_type": "code",
   "execution_count": 9,
   "metadata": {
    "colab": {
     "base_uri": "https://localhost:8080/",
     "height": 1000
    },
    "id": "IwBsGDOd47eh",
    "outputId": "7a951ff6-62fe-404b-bd30-18f38cf2ad03"
   },
   "outputs": [
    {
     "data": {
      "text/plain": [
       "Prospect ID                                       0.0\n",
       "Lead Number                                       0.0\n",
       "Lead Origin                                       0.0\n",
       "Lead Source                                       0.0\n",
       "Do Not Email                                      0.0\n",
       "Do Not Call                                       0.0\n",
       "Converted                                         0.0\n",
       "TotalVisits                                       1.0\n",
       "Total Time Spent on Website                       0.0\n",
       "Page Views Per Visit                              1.0\n",
       "Last Activity                                     1.0\n",
       "Country                                          27.0\n",
       "Specialization                                   37.0\n",
       "How did you hear about X Education               78.0\n",
       "What is your current occupation                  29.0\n",
       "What matters most to you in choosing a course    29.0\n",
       "Search                                            0.0\n",
       "Magazine                                          0.0\n",
       "Newspaper Article                                 0.0\n",
       "X Education Forums                                0.0\n",
       "Newspaper                                         0.0\n",
       "Digital Advertisement                             0.0\n",
       "Through Recommendations                           0.0\n",
       "Receive More Updates About Our Courses            0.0\n",
       "Tags                                             36.0\n",
       "Lead Quality                                     52.0\n",
       "Update me on Supply Chain Content                 0.0\n",
       "Get updates on DM Content                         0.0\n",
       "Lead Profile                                     74.0\n",
       "City                                             40.0\n",
       "Asymmetrique Activity Index                      46.0\n",
       "Asymmetrique Profile Index                       46.0\n",
       "Asymmetrique Activity Score                      46.0\n",
       "Asymmetrique Profile Score                       46.0\n",
       "I agree to pay the amount through cheque          0.0\n",
       "A free copy of Mastering The Interview            0.0\n",
       "Last Notable Activity                             0.0\n",
       "dtype: float64"
      ]
     },
     "execution_count": 9,
     "metadata": {},
     "output_type": "execute_result"
    }
   ],
   "source": [
    "# Finding the null percentages across columns\n",
    "round(leads.isnull().sum()/len(leads.index),2)*100"
   ]
  },
  {
   "cell_type": "code",
   "execution_count": 10,
   "metadata": {
    "id": "wfUbo1pc47h8"
   },
   "outputs": [],
   "source": [
    "# dropping the columns with missing values greater than or equal to 40% .\n",
    "leads=leads.drop(columns=['How did you hear about X Education','Lead Quality','Lead Profile',\n",
    "                                  'Asymmetrique Activity Index','Asymmetrique Profile Index','Asymmetrique Activity Score',\n",
    "                                 'Asymmetrique Profile Score'])"
   ]
  },
  {
   "cell_type": "code",
   "execution_count": 11,
   "metadata": {
    "colab": {
     "base_uri": "https://localhost:8080/",
     "height": 1000
    },
    "id": "ugdTlxy374Wc",
    "outputId": "b0ca39a2-239d-450b-91eb-5af21ca60d64"
   },
   "outputs": [
    {
     "data": {
      "text/plain": [
       "Prospect ID                                       0.0\n",
       "Lead Number                                       0.0\n",
       "Lead Origin                                       0.0\n",
       "Lead Source                                       0.0\n",
       "Do Not Email                                      0.0\n",
       "Do Not Call                                       0.0\n",
       "Converted                                         0.0\n",
       "TotalVisits                                       1.0\n",
       "Total Time Spent on Website                       0.0\n",
       "Page Views Per Visit                              1.0\n",
       "Last Activity                                     1.0\n",
       "Country                                          27.0\n",
       "Specialization                                   37.0\n",
       "What is your current occupation                  29.0\n",
       "What matters most to you in choosing a course    29.0\n",
       "Search                                            0.0\n",
       "Magazine                                          0.0\n",
       "Newspaper Article                                 0.0\n",
       "X Education Forums                                0.0\n",
       "Newspaper                                         0.0\n",
       "Digital Advertisement                             0.0\n",
       "Through Recommendations                           0.0\n",
       "Receive More Updates About Our Courses            0.0\n",
       "Tags                                             36.0\n",
       "Update me on Supply Chain Content                 0.0\n",
       "Get updates on DM Content                         0.0\n",
       "City                                             40.0\n",
       "I agree to pay the amount through cheque          0.0\n",
       "A free copy of Mastering The Interview            0.0\n",
       "Last Notable Activity                             0.0\n",
       "dtype: float64"
      ]
     },
     "execution_count": 11,
     "metadata": {},
     "output_type": "execute_result"
    }
   ],
   "source": [
    "# Finding the null percentages across columns after removing the above columns\n",
    "round(leads.isnull().sum()/len(leads.index),2)*100"
   ]
  },
  {
   "cell_type": "markdown",
   "metadata": {
    "id": "YVMP9K8N8cQx"
   },
   "source": [
    "1) Column: 'Specialization'\n",
    "\n",
    "This column has 37% missing values"
   ]
  },
  {
   "cell_type": "code",
   "execution_count": 12,
   "metadata": {
    "colab": {
     "base_uri": "https://localhost:8080/",
     "height": 479
    },
    "id": "_WBaUWR78P4W",
    "outputId": "7fad5e6c-a533-4fdb-d068-34b3284254e2"
   },
   "outputs": [
    {
     "ename": "ValueError",
     "evalue": "could not convert string to float: 'Business Administration'",
     "output_type": "error",
     "traceback": [
      "\u001b[0;31m---------------------------------------------------------------------------\u001b[0m",
      "\u001b[0;31mValueError\u001b[0m                                Traceback (most recent call last)",
      "Cell \u001b[0;32mIn[12], line 2\u001b[0m\n\u001b[1;32m      1\u001b[0m plt\u001b[38;5;241m.\u001b[39mfigure(figsize\u001b[38;5;241m=\u001b[39m(\u001b[38;5;241m17\u001b[39m,\u001b[38;5;241m5\u001b[39m))\n\u001b[0;32m----> 2\u001b[0m sns\u001b[38;5;241m.\u001b[39mcountplot(leads[\u001b[38;5;124m'\u001b[39m\u001b[38;5;124mSpecialization\u001b[39m\u001b[38;5;124m'\u001b[39m])\n\u001b[1;32m      3\u001b[0m plt\u001b[38;5;241m.\u001b[39mxticks(rotation\u001b[38;5;241m=\u001b[39m\u001b[38;5;241m90\u001b[39m)\n",
      "File \u001b[0;32m/opt/anaconda3/lib/python3.11/site-packages/seaborn/categorical.py:2943\u001b[0m, in \u001b[0;36mcountplot\u001b[0;34m(data, x, y, hue, order, hue_order, orient, color, palette, saturation, width, dodge, ax, **kwargs)\u001b[0m\n\u001b[1;32m   2940\u001b[0m \u001b[38;5;28;01melif\u001b[39;00m x \u001b[38;5;129;01mis\u001b[39;00m \u001b[38;5;129;01mnot\u001b[39;00m \u001b[38;5;28;01mNone\u001b[39;00m \u001b[38;5;129;01mand\u001b[39;00m y \u001b[38;5;129;01mis\u001b[39;00m \u001b[38;5;129;01mnot\u001b[39;00m \u001b[38;5;28;01mNone\u001b[39;00m:\n\u001b[1;32m   2941\u001b[0m     \u001b[38;5;28;01mraise\u001b[39;00m \u001b[38;5;167;01mValueError\u001b[39;00m(\u001b[38;5;124m\"\u001b[39m\u001b[38;5;124mCannot pass values for both `x` and `y`\u001b[39m\u001b[38;5;124m\"\u001b[39m)\n\u001b[0;32m-> 2943\u001b[0m plotter \u001b[38;5;241m=\u001b[39m _CountPlotter(\n\u001b[1;32m   2944\u001b[0m     x, y, hue, data, order, hue_order,\n\u001b[1;32m   2945\u001b[0m     estimator, errorbar, n_boot, units, seed,\n\u001b[1;32m   2946\u001b[0m     orient, color, palette, saturation,\n\u001b[1;32m   2947\u001b[0m     width, errcolor, errwidth, capsize, dodge\n\u001b[1;32m   2948\u001b[0m )\n\u001b[1;32m   2950\u001b[0m plotter\u001b[38;5;241m.\u001b[39mvalue_label \u001b[38;5;241m=\u001b[39m \u001b[38;5;124m\"\u001b[39m\u001b[38;5;124mcount\u001b[39m\u001b[38;5;124m\"\u001b[39m\n\u001b[1;32m   2952\u001b[0m \u001b[38;5;28;01mif\u001b[39;00m ax \u001b[38;5;129;01mis\u001b[39;00m \u001b[38;5;28;01mNone\u001b[39;00m:\n",
      "File \u001b[0;32m/opt/anaconda3/lib/python3.11/site-packages/seaborn/categorical.py:1530\u001b[0m, in \u001b[0;36m_BarPlotter.__init__\u001b[0;34m(self, x, y, hue, data, order, hue_order, estimator, errorbar, n_boot, units, seed, orient, color, palette, saturation, width, errcolor, errwidth, capsize, dodge)\u001b[0m\n\u001b[1;32m   1525\u001b[0m \u001b[38;5;28;01mdef\u001b[39;00m \u001b[38;5;21m__init__\u001b[39m(\u001b[38;5;28mself\u001b[39m, x, y, hue, data, order, hue_order,\n\u001b[1;32m   1526\u001b[0m              estimator, errorbar, n_boot, units, seed,\n\u001b[1;32m   1527\u001b[0m              orient, color, palette, saturation, width,\n\u001b[1;32m   1528\u001b[0m              errcolor, errwidth, capsize, dodge):\n\u001b[1;32m   1529\u001b[0m \u001b[38;5;250m    \u001b[39m\u001b[38;5;124;03m\"\"\"Initialize the plotter.\"\"\"\u001b[39;00m\n\u001b[0;32m-> 1530\u001b[0m     \u001b[38;5;28mself\u001b[39m\u001b[38;5;241m.\u001b[39mestablish_variables(x, y, hue, data, orient,\n\u001b[1;32m   1531\u001b[0m                              order, hue_order, units)\n\u001b[1;32m   1532\u001b[0m     \u001b[38;5;28mself\u001b[39m\u001b[38;5;241m.\u001b[39mestablish_colors(color, palette, saturation)\n\u001b[1;32m   1533\u001b[0m     \u001b[38;5;28mself\u001b[39m\u001b[38;5;241m.\u001b[39mestimate_statistic(estimator, errorbar, n_boot, seed)\n",
      "File \u001b[0;32m/opt/anaconda3/lib/python3.11/site-packages/seaborn/categorical.py:516\u001b[0m, in \u001b[0;36m_CategoricalPlotter.establish_variables\u001b[0;34m(self, x, y, hue, data, orient, order, hue_order, units)\u001b[0m\n\u001b[1;32m    513\u001b[0m     plot_data \u001b[38;5;241m=\u001b[39m data\n\u001b[1;32m    515\u001b[0m \u001b[38;5;66;03m# Convert to a list of arrays, the common representation\u001b[39;00m\n\u001b[0;32m--> 516\u001b[0m plot_data \u001b[38;5;241m=\u001b[39m [np\u001b[38;5;241m.\u001b[39masarray(d, \u001b[38;5;28mfloat\u001b[39m) \u001b[38;5;28;01mfor\u001b[39;00m d \u001b[38;5;129;01min\u001b[39;00m plot_data]\n\u001b[1;32m    518\u001b[0m \u001b[38;5;66;03m# The group names will just be numeric indices\u001b[39;00m\n\u001b[1;32m    519\u001b[0m group_names \u001b[38;5;241m=\u001b[39m \u001b[38;5;28mlist\u001b[39m(\u001b[38;5;28mrange\u001b[39m(\u001b[38;5;28mlen\u001b[39m(plot_data)))\n",
      "File \u001b[0;32m/opt/anaconda3/lib/python3.11/site-packages/seaborn/categorical.py:516\u001b[0m, in \u001b[0;36m<listcomp>\u001b[0;34m(.0)\u001b[0m\n\u001b[1;32m    513\u001b[0m     plot_data \u001b[38;5;241m=\u001b[39m data\n\u001b[1;32m    515\u001b[0m \u001b[38;5;66;03m# Convert to a list of arrays, the common representation\u001b[39;00m\n\u001b[0;32m--> 516\u001b[0m plot_data \u001b[38;5;241m=\u001b[39m [np\u001b[38;5;241m.\u001b[39masarray(d, \u001b[38;5;28mfloat\u001b[39m) \u001b[38;5;28;01mfor\u001b[39;00m d \u001b[38;5;129;01min\u001b[39;00m plot_data]\n\u001b[1;32m    518\u001b[0m \u001b[38;5;66;03m# The group names will just be numeric indices\u001b[39;00m\n\u001b[1;32m    519\u001b[0m group_names \u001b[38;5;241m=\u001b[39m \u001b[38;5;28mlist\u001b[39m(\u001b[38;5;28mrange\u001b[39m(\u001b[38;5;28mlen\u001b[39m(plot_data)))\n",
      "File \u001b[0;32m/opt/anaconda3/lib/python3.11/site-packages/pandas/core/series.py:953\u001b[0m, in \u001b[0;36mSeries.__array__\u001b[0;34m(self, dtype)\u001b[0m\n\u001b[1;32m    906\u001b[0m \u001b[38;5;250m\u001b[39m\u001b[38;5;124;03m\"\"\"\u001b[39;00m\n\u001b[1;32m    907\u001b[0m \u001b[38;5;124;03mReturn the values as a NumPy array.\u001b[39;00m\n\u001b[1;32m    908\u001b[0m \n\u001b[0;32m   (...)\u001b[0m\n\u001b[1;32m    950\u001b[0m \u001b[38;5;124;03m      dtype='datetime64[ns]')\u001b[39;00m\n\u001b[1;32m    951\u001b[0m \u001b[38;5;124;03m\"\"\"\u001b[39;00m\n\u001b[1;32m    952\u001b[0m values \u001b[38;5;241m=\u001b[39m \u001b[38;5;28mself\u001b[39m\u001b[38;5;241m.\u001b[39m_values\n\u001b[0;32m--> 953\u001b[0m arr \u001b[38;5;241m=\u001b[39m np\u001b[38;5;241m.\u001b[39masarray(values, dtype\u001b[38;5;241m=\u001b[39mdtype)\n\u001b[1;32m    954\u001b[0m \u001b[38;5;28;01mif\u001b[39;00m using_copy_on_write() \u001b[38;5;129;01mand\u001b[39;00m astype_is_view(values\u001b[38;5;241m.\u001b[39mdtype, arr\u001b[38;5;241m.\u001b[39mdtype):\n\u001b[1;32m    955\u001b[0m     arr \u001b[38;5;241m=\u001b[39m arr\u001b[38;5;241m.\u001b[39mview()\n",
      "\u001b[0;31mValueError\u001b[0m: could not convert string to float: 'Business Administration'"
     ]
    },
    {
     "data": {
      "text/plain": [
       "<Figure size 1700x500 with 0 Axes>"
      ]
     },
     "metadata": {},
     "output_type": "display_data"
    }
   ],
   "source": [
    "plt.figure(figsize=(17,5))\n",
    "sns.countplot(leads['Specialization'])\n",
    "plt.xticks(rotation=90)"
   ]
  },
  {
   "cell_type": "markdown",
   "metadata": {
    "id": "PCLJzDu6S3N4"
   },
   "source": [
    "There is 37% missing values present in the Specialization column .It may be possible that the lead may leave this column blank if he may be a student or not having any specialization or his specialization is not there in the options given. So we can create a another category 'Others' for this."
   ]
  },
  {
   "cell_type": "code",
   "execution_count": null,
   "metadata": {
    "id": "0IorMt748noF"
   },
   "outputs": [],
   "source": [
    "# Creating a separate category called 'Others' for this\n",
    "leads['Specialization'] = leads['Specialization'].replace(np.nan, 'Others')"
   ]
  },
  {
   "cell_type": "markdown",
   "metadata": {
    "id": "QB4OVtyxTJ4N"
   },
   "source": [
    "2) **Tags column**\n",
    "\n",
    "'Tags' column has 36% missing values"
   ]
  },
  {
   "cell_type": "code",
   "execution_count": null,
   "metadata": {
    "colab": {
     "base_uri": "https://localhost:8080/",
     "height": 815
    },
    "id": "5oWVvyW-S_Lb",
    "outputId": "cbce834b-fd0a-4176-913c-e945e451a0dd"
   },
   "outputs": [],
   "source": [
    "# Visualizing Tags column\n",
    "plt.figure(figsize=(10,7))\n",
    "sns.countplot(leads['Tags'])\n",
    "plt.xticks(rotation=90)"
   ]
  },
  {
   "cell_type": "markdown",
   "metadata": {
    "id": "vdNkKh63TdRG"
   },
   "source": [
    "Since most values are 'Will revert after reading the email' , we can impute missing values in this column with this value."
   ]
  },
  {
   "cell_type": "code",
   "execution_count": null,
   "metadata": {
    "id": "QVttSm1qTThM"
   },
   "outputs": [],
   "source": [
    "# Imputing the missing data in the tags column with 'Will revert after reading the email'\n",
    "leads['Tags']=leads['Tags'].replace(np.nan,'Will revert after reading the email')"
   ]
  },
  {
   "cell_type": "markdown",
   "metadata": {
    "id": "khCO0J7uTsF-"
   },
   "source": [
    "3) Column: 'What matters most to you in choosing a course'\n",
    "\n",
    "this column has 29% missing values"
   ]
  },
  {
   "cell_type": "code",
   "execution_count": null,
   "metadata": {
    "colab": {
     "base_uri": "https://localhost:8080/",
     "height": 626
    },
    "id": "KPAtADBdTiJP",
    "outputId": "0d6d4e72-b4c2-4ade-873a-0ba88ae64550"
   },
   "outputs": [],
   "source": [
    "# Visualizing this column\n",
    "sns.countplot(leads['What matters most to you in choosing a course'])\n",
    "plt.xticks(rotation=45)"
   ]
  },
  {
   "cell_type": "code",
   "execution_count": null,
   "metadata": {
    "colab": {
     "base_uri": "https://localhost:8080/",
     "height": 209
    },
    "id": "s7HSWJV3Tyen",
    "outputId": "2f9d2934-ea7a-4ea4-9c17-92af69be1632"
   },
   "outputs": [],
   "source": [
    "# Finding the percentage of the different categories of this column:\n",
    "round(leads['What matters most to you in choosing a course'].value_counts(normalize=True),2)*100"
   ]
  },
  {
   "cell_type": "markdown",
   "metadata": {
    "id": "4aOzNPZtUCSA"
   },
   "source": [
    "We can see that this is highly skewed column so we can remove this column."
   ]
  },
  {
   "cell_type": "code",
   "execution_count": null,
   "metadata": {
    "id": "wKKCLKjyT7VB"
   },
   "outputs": [],
   "source": [
    "# Dropping this column\n",
    "leads=leads.drop('What matters most to you in choosing a course',axis=1)"
   ]
  },
  {
   "cell_type": "markdown",
   "metadata": {
    "id": "jWx46wCMUQpF"
   },
   "source": [
    "4) Column: 'What is your current occupation'\n",
    "\n",
    "this column has 29% missing values"
   ]
  },
  {
   "cell_type": "code",
   "execution_count": null,
   "metadata": {
    "colab": {
     "base_uri": "https://localhost:8080/",
     "height": 609
    },
    "id": "-zcSPuW-UJkQ",
    "outputId": "fe1a8d1a-a592-49b7-c22d-65c4aab4a554"
   },
   "outputs": [],
   "source": [
    "sns.countplot(leads['What is your current occupation'])\n",
    "plt.xticks(rotation=45)"
   ]
  },
  {
   "cell_type": "code",
   "execution_count": null,
   "metadata": {
    "colab": {
     "base_uri": "https://localhost:8080/",
     "height": 303
    },
    "id": "uFyJAYsnUbus",
    "outputId": "1f99be7b-0398-404e-e5c4-d6b1c118f6dc"
   },
   "outputs": [],
   "source": [
    "# Finding the percentage of the different categories of this column:\n",
    "round(leads['What is your current occupation'].value_counts(normalize=True),2)*100"
   ]
  },
  {
   "cell_type": "markdown",
   "metadata": {
    "id": "PTxlQmjhUpd5"
   },
   "source": [
    "Since the most values are 'Unemployed' , we can impute missing values in this column with this value."
   ]
  },
  {
   "cell_type": "code",
   "execution_count": null,
   "metadata": {
    "id": "6L_T0Ao2UknB"
   },
   "outputs": [],
   "source": [
    "# Imputing the missing data in the 'What is your current occupation' column with 'Unemployed'\n",
    "leads['What is your current occupation']=leads['What is your current occupation'].replace(np.nan,'Unemployed')"
   ]
  },
  {
   "cell_type": "markdown",
   "metadata": {
    "id": "OkFOzJT8U12D"
   },
   "source": [
    "5) Column: 'Country'\n",
    "\n",
    "This column has 27% missing values"
   ]
  },
  {
   "cell_type": "code",
   "execution_count": null,
   "metadata": {
    "colab": {
     "base_uri": "https://localhost:8080/",
     "height": 518
    },
    "id": "4lB60pOBUw1s",
    "outputId": "63652931-1659-4fb5-cb5c-b0277356397d"
   },
   "outputs": [],
   "source": [
    "plt.figure(figsize=(17,5))\n",
    "sns.countplot(leads['Country'])\n",
    "plt.xticks(rotation=90)"
   ]
  },
  {
   "cell_type": "markdown",
   "metadata": {
    "id": "142c1yRuVDnx"
   },
   "source": [
    "We can see that this is highly skewed column but it is an important information w.r.t. to the lead. Since most values are 'India' , we can impute missing values in this column with this value."
   ]
  },
  {
   "cell_type": "code",
   "execution_count": null,
   "metadata": {
    "id": "lYjTpp5xU9Iv"
   },
   "outputs": [],
   "source": [
    "# Imputing the missing data in the 'Country' column with 'India'\n",
    "leads['Country']=leads['Country'].replace(np.nan,'India')"
   ]
  },
  {
   "cell_type": "markdown",
   "metadata": {
    "id": "oUYFFi3_VUP6"
   },
   "source": [
    "6) Column: 'City'\n",
    "\n",
    "This column has 40% missing values"
   ]
  },
  {
   "cell_type": "code",
   "execution_count": null,
   "metadata": {
    "colab": {
     "base_uri": "https://localhost:8080/",
     "height": 642
    },
    "id": "HX4Cl-KuVO8b",
    "outputId": "e4c60e4c-06c8-44de-b6b9-f2153bb5fd78"
   },
   "outputs": [],
   "source": [
    "plt.figure(figsize=(10,5))\n",
    "sns.countplot(leads['City'])\n",
    "plt.xticks(rotation=90)"
   ]
  },
  {
   "cell_type": "code",
   "execution_count": null,
   "metadata": {
    "colab": {
     "base_uri": "https://localhost:8080/",
     "height": 303
    },
    "id": "ZTlDr1N7VbiV",
    "outputId": "d96b0d73-841e-4ffc-c3f4-06a4b9745b57"
   },
   "outputs": [],
   "source": [
    "# Finding the percentage of the different categories of this column:\n",
    "round(leads['City'].value_counts(normalize=True),2)*100"
   ]
  },
  {
   "cell_type": "markdown",
   "metadata": {
    "id": "FcvgzRhpVmCd"
   },
   "source": [
    "Since most values are 'Mumbai' , we can impute missing values in this column with this value."
   ]
  },
  {
   "cell_type": "code",
   "execution_count": null,
   "metadata": {
    "id": "4-D3O8IhVfle"
   },
   "outputs": [],
   "source": [
    "# Imputing the missing data in the 'City' column with 'Mumbai'\n",
    "leads['City']=leads['City'].replace(np.nan,'Mumbai')"
   ]
  },
  {
   "cell_type": "code",
   "execution_count": null,
   "metadata": {
    "colab": {
     "base_uri": "https://localhost:8080/",
     "height": 993
    },
    "id": "O3lLQFbxVu0E",
    "outputId": "b4c855c4-ead0-4c44-d193-0256b76d653e"
   },
   "outputs": [],
   "source": [
    "# Finding the null percentages across columns after removing the above columns\n",
    "round(leads.isnull().sum()/len(leads.index),2)*100"
   ]
  },
  {
   "cell_type": "markdown",
   "metadata": {
    "id": "7jJPqlw_V6CH"
   },
   "source": [
    "Rest missing values are under 2% so we can drop these rows."
   ]
  },
  {
   "cell_type": "code",
   "execution_count": null,
   "metadata": {
    "id": "LHdYmvi3V173"
   },
   "outputs": [],
   "source": [
    "# Dropping the rows with null values\n",
    "leads.dropna(inplace = True)"
   ]
  },
  {
   "cell_type": "code",
   "execution_count": null,
   "metadata": {
    "colab": {
     "base_uri": "https://localhost:8080/",
     "height": 993
    },
    "id": "I-7ZF3ocWDPy",
    "outputId": "45628857-117f-4e49-d5f8-444899ac0400"
   },
   "outputs": [],
   "source": [
    "# Finding the null percentages across columns after removing the above columns\n",
    "round(leads.isnull().sum()/len(leads.index),2)*100"
   ]
  },
  {
   "cell_type": "markdown",
   "metadata": {
    "id": "PVbBSrU1WdLn"
   },
   "source": [
    "Now we don't have any missing value in the dataset.\n",
    "\n",
    "We can find the percentage of rows retained."
   ]
  },
  {
   "cell_type": "code",
   "execution_count": null,
   "metadata": {
    "colab": {
     "base_uri": "https://localhost:8080/"
    },
    "id": "rGIlpF4-WN6M",
    "outputId": "5f431f7b-b646-4e36-d360-366889e0abe2"
   },
   "outputs": [],
   "source": [
    "# Percentage of rows retained\n",
    "(len(leads.index)/9240)*100"
   ]
  },
  {
   "cell_type": "markdown",
   "metadata": {
    "id": "r0b5rQ-1WwyD"
   },
   "source": [
    "We have retained 98% of the rows after cleaning the data"
   ]
  },
  {
   "cell_type": "markdown",
   "metadata": {
    "id": "gEv33AyCW554"
   },
   "source": [
    "**Exploratory Data Anaysis**"
   ]
  },
  {
   "cell_type": "markdown",
   "metadata": {
    "id": "WtpoymXQXB3A"
   },
   "source": [
    "Checking for duplicates:"
   ]
  },
  {
   "cell_type": "code",
   "execution_count": null,
   "metadata": {
    "colab": {
     "base_uri": "https://localhost:8080/",
     "height": 185
    },
    "id": "rdCcUJmrXGxB",
    "outputId": "0aae84c8-992b-4416-8faa-031c4fc2b5e1"
   },
   "outputs": [],
   "source": [
    "leads[leads.duplicated()]"
   ]
  },
  {
   "cell_type": "markdown",
   "metadata": {
    "id": "srhG4Vzdc3Br"
   },
   "source": [
    "We see there are no duplicate records in our lead dataset."
   ]
  },
  {
   "cell_type": "markdown",
   "metadata": {
    "id": "JSrbCUNVdL0T"
   },
   "source": [
    "Univariate Analysis and Bivariate Analysis\n",
    "\n",
    "1) Converted\n",
    "\n",
    "Converted is the target variable, Indicates whether a lead has been successfully converted (1) or not (0)"
   ]
  },
  {
   "cell_type": "code",
   "execution_count": null,
   "metadata": {
    "colab": {
     "base_uri": "https://localhost:8080/"
    },
    "id": "NAzbZdudWi6n",
    "outputId": "58044642-1ec7-4fc8-a128-1f55eebee65c"
   },
   "outputs": [],
   "source": [
    "Converted = (sum(leads['Converted'])/len(leads['Converted'].index))*100\n",
    "Converted"
   ]
  },
  {
   "cell_type": "markdown",
   "metadata": {
    "id": "Hnbng5Xqdbs-"
   },
   "source": [
    "The lead conversion rate is 38%."
   ]
  },
  {
   "cell_type": "markdown",
   "metadata": {
    "id": "Qzi4isxndfhs"
   },
   "source": [
    "2) Lead Origin"
   ]
  },
  {
   "cell_type": "code",
   "execution_count": null,
   "metadata": {
    "colab": {
     "base_uri": "https://localhost:8080/",
     "height": 673
    },
    "id": "qqJX7HI5dW7J",
    "outputId": "457669ab-bee9-43ae-a96e-0cea9cf4c799"
   },
   "outputs": [],
   "source": [
    "plt.figure(figsize=(10,5))\n",
    "sns.countplot(x = \"Lead Origin\", hue = \"Converted\", data = leads,palette='Set1')\n",
    "plt.xticks(rotation = 45)"
   ]
  },
  {
   "cell_type": "markdown",
   "metadata": {
    "id": "ACD4thMOdyIX"
   },
   "source": [
    "**Inference** :\n",
    "\n",
    "1) API and Landing Page Submission have 30-35% conversion rate but count of lead originated from them are considerable.\n",
    "\n",
    "2) Lead Add Form has more than 90% conversion rate but count of lead are not very high.\n",
    "\n",
    "3) Lead Import are very less in count.\n",
    "\n",
    "*To improve overall lead conversion rate, we need to focus more on improving lead converion of API and Landing Page Submission origin and generate more leads from Lead Add Form.*"
   ]
  },
  {
   "cell_type": "markdown",
   "metadata": {
    "id": "FmCViu77eF_v"
   },
   "source": [
    "3) Lead Source"
   ]
  },
  {
   "cell_type": "code",
   "execution_count": null,
   "metadata": {
    "colab": {
     "base_uri": "https://localhost:8080/",
     "height": 966
    },
    "id": "KTDZIvqRdsOu",
    "outputId": "0bc30402-a804-4f26-ff3b-abb48cabbcf6"
   },
   "outputs": [],
   "source": [
    "plt.figure(figsize=(13,5))\n",
    "sns.countplot(x = \"Lead Source\", hue = \"Converted\", data = leads, palette='Set1')\n",
    "plt.xticks(rotation = 90)"
   ]
  },
  {
   "cell_type": "code",
   "execution_count": null,
   "metadata": {
    "id": "b7gSrcqieTG9"
   },
   "outputs": [],
   "source": [
    "# Need to replace 'google' with 'Google'\n",
    "leads['Lead Source'] = leads['Lead Source'].replace(['google'], 'Google')"
   ]
  },
  {
   "cell_type": "code",
   "execution_count": null,
   "metadata": {
    "id": "m3Q45RFmec4S"
   },
   "outputs": [],
   "source": [
    "# Creating a new category 'Others' for some of the Lead Sources which do not have much values.\n",
    "leads['Lead Source'] = leads['Lead Source'].replace(['Click2call', 'Live Chat', 'NC_EDM', 'Pay per Click Ads', 'Press_Release',\n",
    "  'Social Media', 'WeLearn', 'bing', 'blog', 'testone', 'welearnblog_Home', 'youtubechannel'], 'Others')"
   ]
  },
  {
   "cell_type": "code",
   "execution_count": null,
   "metadata": {
    "colab": {
     "base_uri": "https://localhost:8080/",
     "height": 748
    },
    "id": "BXPccP4kekY5",
    "outputId": "c38527ee-2704-405a-f87c-85a414f921f9"
   },
   "outputs": [],
   "source": [
    "# Visualizing again\n",
    "plt.figure(figsize=(10,5))\n",
    "sns.countplot(x = \"Lead Source\", hue = \"Converted\", data = leads,palette='Set1')\n",
    "plt.xticks(rotation = 90)"
   ]
  },
  {
   "cell_type": "markdown",
   "metadata": {
    "id": "m0dNPAFaeve5"
   },
   "source": [
    "**Inference**:\n",
    "\n",
    "  1) Google and Direct traffic generates maximum number of leads.\n",
    "\n",
    "  2) Conversion Rate of reference leads and leads through welingak website is high.\n",
    "\n",
    "*To improve overall lead conversion rate, focus should be on improving lead converion of olark chat, organic search, direct traffic, and google leads and generate more leads from reference and welingak website.*"
   ]
  },
  {
   "cell_type": "markdown",
   "metadata": {
    "id": "H7tbjVSEfE9n"
   },
   "source": [
    "4) Do not Email"
   ]
  },
  {
   "cell_type": "code",
   "execution_count": null,
   "metadata": {
    "colab": {
     "base_uri": "https://localhost:8080/",
     "height": 475
    },
    "id": "6_Yu2ia6eqKF",
    "outputId": "fb37949b-8717-46f2-f542-7af46f5bd2b2"
   },
   "outputs": [],
   "source": [
    "sns.countplot(x = \"Do Not Email\", hue = \"Converted\", data = leads,palette='Set1')\n",
    "plt.xticks(rotation = 90)"
   ]
  },
  {
   "cell_type": "markdown",
   "metadata": {
    "id": "1WsOJsVCfSli"
   },
   "source": [
    "Inference\n",
    "\n",
    "Most entries are 'No'. No Inference can be drawn with this parameter."
   ]
  },
  {
   "cell_type": "markdown",
   "metadata": {
    "id": "BV92t5gJfSXr"
   },
   "source": [
    "5) Do not call"
   ]
  },
  {
   "cell_type": "code",
   "execution_count": null,
   "metadata": {
    "colab": {
     "base_uri": "https://localhost:8080/",
     "height": 475
    },
    "id": "OnuMQAT3fOFe",
    "outputId": "912f0bcf-fa32-412c-f813-d076d51f3efb"
   },
   "outputs": [],
   "source": [
    "sns.countplot(x = \"Do Not Call\", hue = \"Converted\", data = leads,palette='Set1')\n",
    "plt.xticks(rotation = 90)"
   ]
  },
  {
   "cell_type": "markdown",
   "metadata": {
    "id": "EI2SAStrfmja"
   },
   "source": [
    "Inference\n",
    "\n",
    "Most entries are 'No'. No Inference can be drawn with this parameter."
   ]
  },
  {
   "cell_type": "markdown",
   "metadata": {
    "id": "3Rdg5YFuftfX"
   },
   "source": [
    "6) Total Visits"
   ]
  },
  {
   "cell_type": "code",
   "execution_count": null,
   "metadata": {
    "colab": {
     "base_uri": "https://localhost:8080/",
     "height": 460
    },
    "id": "6UZve3cKfgV8",
    "outputId": "f004fb8f-e491-401c-df12-898867ba5cc6"
   },
   "outputs": [],
   "source": [
    "leads['TotalVisits'].describe(percentiles=[0.05,.25, .5, .75, .90, .95, .99])"
   ]
  },
  {
   "cell_type": "code",
   "execution_count": null,
   "metadata": {
    "colab": {
     "base_uri": "https://localhost:8080/",
     "height": 428
    },
    "id": "JDxqm6QFf1DM",
    "outputId": "0ec4c1c9-73e8-403e-d9f8-b08dd87ac037"
   },
   "outputs": [],
   "source": [
    "sns.boxplot(leads['TotalVisits'],orient='vert',palette='Set1')"
   ]
  },
  {
   "cell_type": "markdown",
   "metadata": {
    "id": "3yL3p07kgBos"
   },
   "source": [
    "As we can see there are a number of outliers in the data. We will cap the outliers to 95% value for analysis."
   ]
  },
  {
   "cell_type": "code",
   "execution_count": null,
   "metadata": {
    "id": "Z92r37h1f8oE"
   },
   "outputs": [],
   "source": [
    "percentiles = leads['TotalVisits'].quantile([0.05,0.95]).values\n",
    "leads['TotalVisits'][leads['TotalVisits'] <= percentiles[0]] = percentiles[0]\n",
    "leads['TotalVisits'][leads['TotalVisits'] >= percentiles[1]] = percentiles[1]"
   ]
  },
  {
   "cell_type": "code",
   "execution_count": null,
   "metadata": {
    "colab": {
     "base_uri": "https://localhost:8080/",
     "height": 428
    },
    "id": "oHnWaxoQgR8m",
    "outputId": "a6175952-3538-4599-f3e5-4d0873099d77"
   },
   "outputs": [],
   "source": [
    "# Visualizing again\n",
    "sns.boxplot(leads['TotalVisits'],orient='vert',palette='Set1')"
   ]
  },
  {
   "cell_type": "code",
   "execution_count": null,
   "metadata": {
    "colab": {
     "base_uri": "https://localhost:8080/",
     "height": 466
    },
    "id": "I4MMATWWgYN1",
    "outputId": "06ddedc4-910e-4e6e-83de-696dac8cba7a"
   },
   "outputs": [],
   "source": [
    "sns.boxplot(y = 'TotalVisits', x = 'Converted', data = leads,palette='Set1')"
   ]
  },
  {
   "cell_type": "markdown",
   "metadata": {
    "id": "3ogblqx4gn35"
   },
   "source": [
    "Inference\n",
    "  \n",
    "  Median for converted and not converted leads are the same.\n",
    "\n",
    "Nothing can be concluded on the basis of Total Visits."
   ]
  },
  {
   "cell_type": "markdown",
   "metadata": {
    "id": "LC2Q1unag1my"
   },
   "source": [
    "7) Total time spent on website"
   ]
  },
  {
   "cell_type": "code",
   "execution_count": null,
   "metadata": {
    "colab": {
     "base_uri": "https://localhost:8080/",
     "height": 335
    },
    "id": "sfrKKsY7gibT",
    "outputId": "aeb67508-5df8-486e-af86-dd0c9d879fc5"
   },
   "outputs": [],
   "source": [
    "leads['Total Time Spent on Website'].describe()"
   ]
  },
  {
   "cell_type": "code",
   "execution_count": null,
   "metadata": {
    "colab": {
     "base_uri": "https://localhost:8080/",
     "height": 428
    },
    "id": "Uh6kqdbEg9-n",
    "outputId": "70ac2e57-5a09-44f9-b477-a7ccd943780b"
   },
   "outputs": [],
   "source": [
    "sns.boxplot(leads['Total Time Spent on Website'],orient='vert',palette='Set1')"
   ]
  },
  {
   "cell_type": "code",
   "execution_count": null,
   "metadata": {
    "colab": {
     "base_uri": "https://localhost:8080/",
     "height": 466
    },
    "id": "ROAfjKFrhSI1",
    "outputId": "00ce0b81-a1d0-4124-ec0e-1a65ea4a1987"
   },
   "outputs": [],
   "source": [
    "sns.boxplot(y = 'Total Time Spent on Website', x = 'Converted', data = leads,palette='Set1')"
   ]
  },
  {
   "cell_type": "markdown",
   "metadata": {
    "id": "nRGlg9gdrFJO"
   },
   "source": [
    "Inference\n",
    "\n",
    "  Leads spending more time on the weblise are more likely to be converted.\n",
    "\n",
    "Website should be made more engaging to make leads spend more time."
   ]
  },
  {
   "cell_type": "markdown",
   "metadata": {
    "id": "F8PoVm-JrSso"
   },
   "source": [
    "8) Page viewed per visit"
   ]
  },
  {
   "cell_type": "code",
   "execution_count": null,
   "metadata": {
    "colab": {
     "base_uri": "https://localhost:8080/",
     "height": 335
    },
    "id": "Z9lNKPzKhrJy",
    "outputId": "d806ee48-fd16-404d-fbe4-bb6d815c29f6"
   },
   "outputs": [],
   "source": [
    "leads['Page Views Per Visit'].describe()"
   ]
  },
  {
   "cell_type": "code",
   "execution_count": null,
   "metadata": {
    "colab": {
     "base_uri": "https://localhost:8080/",
     "height": 428
    },
    "id": "_Ztg1eyyrdEZ",
    "outputId": "c01c0566-fb49-4808-ad5f-d844c4268a46"
   },
   "outputs": [],
   "source": [
    "sns.boxplot(leads['Page Views Per Visit'],orient='vert',palette='Set1')"
   ]
  },
  {
   "cell_type": "markdown",
   "metadata": {
    "id": "i9Zq3JOtro3C"
   },
   "source": [
    "**As we can see there are a number of outliers in the data. We will cap the outliers to 95% value for analysis.**"
   ]
  },
  {
   "cell_type": "code",
   "execution_count": null,
   "metadata": {
    "id": "h3VhWhc_rjLI"
   },
   "outputs": [],
   "source": [
    "percentiles = leads['Page Views Per Visit'].quantile([0.05,0.95]).values\n",
    "leads['Page Views Per Visit'][leads['Page Views Per Visit'] <= percentiles[0]] = percentiles[0]\n",
    "leads['Page Views Per Visit'][leads['Page Views Per Visit'] >= percentiles[1]] = percentiles[1]"
   ]
  },
  {
   "cell_type": "code",
   "execution_count": null,
   "metadata": {
    "colab": {
     "base_uri": "https://localhost:8080/",
     "height": 428
    },
    "id": "8qXZLAx3r4gu",
    "outputId": "efa36268-d371-41ad-f619-1d8d0f3b2524"
   },
   "outputs": [],
   "source": [
    "# Visualizing again\n",
    "sns.boxplot(leads['Page Views Per Visit'],palette='Set1',orient='vert')"
   ]
  },
  {
   "cell_type": "code",
   "execution_count": null,
   "metadata": {
    "colab": {
     "base_uri": "https://localhost:8080/",
     "height": 466
    },
    "id": "1pAndHnOr8yf",
    "outputId": "f2a37e89-e6b3-4d6a-971f-b3ac8468ff69"
   },
   "outputs": [],
   "source": [
    "sns.boxplot(y = 'Page Views Per Visit', x = 'Converted', data =leads,palette='Set1')"
   ]
  },
  {
   "cell_type": "markdown",
   "metadata": {
    "id": "dpgWHtTxsNZZ"
   },
   "source": [
    "Inference\n",
    "\n",
    "Median for converted and unconverted leads is the same.\n",
    "\n",
    "**Nothing can be said specifically for lead conversion from Page Views Per Visit**"
   ]
  },
  {
   "cell_type": "markdown",
   "metadata": {
    "id": "6JWcItSOupdr"
   },
   "source": [
    "9) Last activity"
   ]
  },
  {
   "cell_type": "code",
   "execution_count": null,
   "metadata": {
    "colab": {
     "base_uri": "https://localhost:8080/",
     "height": 209
    },
    "id": "PoJ4qMGgsHwj",
    "outputId": "ad760c2e-a5fb-46f2-d54e-20cc53e9aaab"
   },
   "outputs": [],
   "source": [
    "leads['Last Activity'].describe()"
   ]
  },
  {
   "cell_type": "code",
   "execution_count": null,
   "metadata": {
    "colab": {
     "base_uri": "https://localhost:8080/",
     "height": 958
    },
    "id": "c5NLcFk-JvsZ",
    "outputId": "5687993a-65d5-4682-f0ea-a1a9d81a5fee"
   },
   "outputs": [],
   "source": [
    "plt.figure(figsize=(15,6))\n",
    "sns.countplot(x = \"Last Activity\", hue = \"Converted\", data = leads,palette='Set1')\n",
    "plt.xticks(rotation = 90)"
   ]
  },
  {
   "cell_type": "code",
   "execution_count": null,
   "metadata": {
    "id": "ySegqDfeKhpz"
   },
   "outputs": [],
   "source": [
    "# We can club the last activities to \"Other_Activity\" which are having less data.\n",
    "leads['Last Activity'] = leads['Last Activity'].replace(['Had a Phone Conversation', 'View in browser link Clicked',\n",
    "                                                       'Visited Booth in Tradeshow', 'Approached upfront',\n",
    "                                                       'Resubscribed to emails','Email Received', 'Email Marked Spam'], 'Other_Activity')"
   ]
  },
  {
   "cell_type": "code",
   "execution_count": null,
   "metadata": {
    "colab": {
     "base_uri": "https://localhost:8080/",
     "height": 854
    },
    "id": "HiJCVMjEKmWN",
    "outputId": "987a26ed-823a-435f-f7a5-199286cb7ebd"
   },
   "outputs": [],
   "source": [
    "# Visualizing again\n",
    "plt.figure(figsize=(15,6))\n",
    "sns.countplot(x = \"Last Activity\", hue = \"Converted\", data = leads,palette='Set1')\n",
    "plt.xticks(rotation = 90)"
   ]
  },
  {
   "cell_type": "markdown",
   "metadata": {
    "id": "6J8m7rmEK3IB"
   },
   "source": [
    "Inference\n",
    "\n",
    "1)Most of the lead have their Email opened as their last activity.\n",
    "\n",
    "2)Conversion rate for leads with last activity as SMS Sent is almost 60%."
   ]
  },
  {
   "cell_type": "markdown",
   "metadata": {
    "id": "KVENzX6fLALh"
   },
   "source": [
    "10) Country"
   ]
  },
  {
   "cell_type": "code",
   "execution_count": null,
   "metadata": {
    "colab": {
     "base_uri": "https://localhost:8080/",
     "height": 1000
    },
    "id": "im3eA27oKw0z",
    "outputId": "309e978f-a289-42ab-e4b3-48e953030a12"
   },
   "outputs": [],
   "source": [
    "plt.figure(figsize=(15,6))\n",
    "sns.countplot(x = \"Country\", hue = \"Converted\", data = leads,palette='Set1')\n",
    "plt.xticks(rotation = 90)"
   ]
  },
  {
   "cell_type": "markdown",
   "metadata": {
    "id": "A3zvO3M2LNp0"
   },
   "source": [
    "Inference\n",
    "\n",
    "Most values are 'India' no such inference can be drawn"
   ]
  },
  {
   "cell_type": "markdown",
   "metadata": {
    "id": "eHLSGtAHLNZ3"
   },
   "source": [
    "11) Specialization"
   ]
  },
  {
   "cell_type": "code",
   "execution_count": null,
   "metadata": {
    "colab": {
     "base_uri": "https://localhost:8080/",
     "height": 1000
    },
    "id": "7Hn1TB6pLHc4",
    "outputId": "56ad2642-0d1f-4fd8-f2ac-80094903fcd6"
   },
   "outputs": [],
   "source": [
    "plt.figure(figsize=(15,6))\n",
    "sns.countplot(x = \"Specialization\", hue = \"Converted\", data = leads,palette='Set1')\n",
    "plt.xticks(rotation = 90)"
   ]
  },
  {
   "cell_type": "markdown",
   "metadata": {
    "id": "KTbYhRCXLeX8"
   },
   "source": [
    "Inference\n",
    "\n",
    "Focus should be more on the Specialization with high conversion rate."
   ]
  },
  {
   "cell_type": "markdown",
   "metadata": {
    "id": "Ztfm4B52Ljfy"
   },
   "source": [
    "12) What is your current occupation"
   ]
  },
  {
   "cell_type": "code",
   "execution_count": null,
   "metadata": {
    "colab": {
     "base_uri": "https://localhost:8080/",
     "height": 724
    },
    "id": "RWQtrOHELYhJ",
    "outputId": "f7c9dbe5-e84e-4fa5-8fbb-999bcb93bf5c"
   },
   "outputs": [],
   "source": [
    "plt.figure(figsize=(15,6))\n",
    "sns.countplot(x = \"What is your current occupation\", hue = \"Converted\", data = leads,palette='Set1')\n",
    "plt.xticks(rotation = 90)"
   ]
  },
  {
   "cell_type": "markdown",
   "metadata": {
    "id": "sME85VrCL1Cv"
   },
   "source": [
    "Inference\n",
    "\n",
    "Working Professionals going for the course have high chances of joining it.\n",
    "\n",
    "Unemployed leads are the most in numbers but has around 30-35% conversion rate."
   ]
  },
  {
   "cell_type": "markdown",
   "metadata": {
    "id": "qxA4KyiQL6aw"
   },
   "source": [
    "13) Search"
   ]
  },
  {
   "cell_type": "code",
   "execution_count": null,
   "metadata": {
    "colab": {
     "base_uri": "https://localhost:8080/",
     "height": 475
    },
    "id": "r_BRjd2rLscZ",
    "outputId": "36c465fb-f9e2-4b2b-84e9-567de82d9c48"
   },
   "outputs": [],
   "source": [
    "sns.countplot(x = \"Search\", hue = \"Converted\", data = leads,palette='Set1')\n",
    "plt.xticks(rotation = 90)"
   ]
  },
  {
   "cell_type": "markdown",
   "metadata": {
    "id": "OqlFiCdVMG3r"
   },
   "source": [
    "Inference\n",
    "\n",
    "Most entries are 'No'. No Inference can be drawn with this parameter."
   ]
  },
  {
   "cell_type": "markdown",
   "metadata": {
    "id": "_FbyA47jMG0J"
   },
   "source": [
    "14) Magazine"
   ]
  },
  {
   "cell_type": "code",
   "execution_count": null,
   "metadata": {
    "colab": {
     "base_uri": "https://localhost:8080/",
     "height": 471
    },
    "id": "mo0_EKRRMBeu",
    "outputId": "d4bf0eaa-3b1c-44ba-89c6-46dd892e6d72"
   },
   "outputs": [],
   "source": [
    "sns.countplot(x = \"Magazine\", hue = \"Converted\", data = leads,palette='Set1')\n",
    "plt.xticks(rotation = 90)"
   ]
  },
  {
   "cell_type": "markdown",
   "metadata": {
    "id": "ibHUJS92Mefs"
   },
   "source": [
    "Inference\n",
    "\n",
    "Most entries are 'No'. No Inference can be drawn with this parameter."
   ]
  },
  {
   "cell_type": "markdown",
   "metadata": {
    "id": "Fm5ylTefMeb9"
   },
   "source": [
    "15) Newspaper Article"
   ]
  },
  {
   "cell_type": "code",
   "execution_count": null,
   "metadata": {
    "colab": {
     "base_uri": "https://localhost:8080/",
     "height": 475
    },
    "id": "HhbHcdUAMXHC",
    "outputId": "2cfdb0a3-8b26-4f04-f12c-96e98ee990dd"
   },
   "outputs": [],
   "source": [
    "sns.countplot(x = \"Newspaper Article\", hue = \"Converted\", data = leads,palette='Set1')\n",
    "plt.xticks(rotation = 90)"
   ]
  },
  {
   "cell_type": "markdown",
   "metadata": {
    "id": "srV_pzWgMzob"
   },
   "source": [
    "Inference\n",
    "\n",
    "Most entries are 'No'. No Inference can be drawn with this parameter."
   ]
  },
  {
   "cell_type": "markdown",
   "metadata": {
    "id": "Cmxs9cc6Mzk3"
   },
   "source": [
    "16) X Education Forums"
   ]
  },
  {
   "cell_type": "code",
   "execution_count": null,
   "metadata": {
    "colab": {
     "base_uri": "https://localhost:8080/",
     "height": 475
    },
    "id": "0k8cRTMZMqzE",
    "outputId": "a7f8bf20-f886-437c-bd67-d1db3acb2a83"
   },
   "outputs": [],
   "source": [
    "sns.countplot(x = \"X Education Forums\", hue = \"Converted\", data = leads,palette='Set1')\n",
    "plt.xticks(rotation = 90)"
   ]
  },
  {
   "cell_type": "markdown",
   "metadata": {
    "id": "ZqMLt3rTNPEu"
   },
   "source": [
    "Inference\n",
    "\n",
    "Most entries are 'No'. No Inference can be drawn with this parameter."
   ]
  },
  {
   "cell_type": "markdown",
   "metadata": {
    "id": "BS_cHjSjNO0n"
   },
   "source": [
    "17) Newspaper"
   ]
  },
  {
   "cell_type": "code",
   "execution_count": null,
   "metadata": {
    "colab": {
     "base_uri": "https://localhost:8080/",
     "height": 475
    },
    "id": "NU4LbzV3NEg5",
    "outputId": "95e03115-34ed-4888-a374-34640c9e8cbc"
   },
   "outputs": [],
   "source": [
    "sns.countplot(x = \"Newspaper\", hue = \"Converted\", data = leads,palette='Set1')\n",
    "plt.xticks(rotation = 90)"
   ]
  },
  {
   "cell_type": "markdown",
   "metadata": {
    "id": "by_SKRPvNggY"
   },
   "source": [
    "Inference\n",
    "\n",
    "Most entries are 'No'. No Inference can be drawn with this parameter."
   ]
  },
  {
   "cell_type": "markdown",
   "metadata": {
    "id": "EqgOFtDtNgSV"
   },
   "source": [
    "18) Digital Advertisement"
   ]
  },
  {
   "cell_type": "code",
   "execution_count": null,
   "metadata": {
    "colab": {
     "base_uri": "https://localhost:8080/",
     "height": 475
    },
    "id": "IX1HgY6KNY-S",
    "outputId": "940e6f40-3a0f-4bf2-ab49-d57add2093b1"
   },
   "outputs": [],
   "source": [
    "sns.countplot(x = \"Digital Advertisement\", hue = \"Converted\", data = leads,palette='Set1')\n",
    "plt.xticks(rotation = 90)"
   ]
  },
  {
   "cell_type": "markdown",
   "metadata": {
    "id": "UYeqZpFMN2Gd"
   },
   "source": [
    "Inference\n",
    "\n",
    "Most entries are 'No'. No Inference can be drawn with this parameter."
   ]
  },
  {
   "cell_type": "markdown",
   "metadata": {
    "id": "w6DuvzliN19A"
   },
   "source": [
    "19) Through Reccomendations"
   ]
  },
  {
   "cell_type": "code",
   "execution_count": null,
   "metadata": {
    "colab": {
     "base_uri": "https://localhost:8080/",
     "height": 475
    },
    "id": "WmLkff6uNwIs",
    "outputId": "7ab3e0ef-d476-4d31-ca08-9419a2c6f47d"
   },
   "outputs": [],
   "source": [
    "sns.countplot(x = \"Through Recommendations\", hue = \"Converted\", data = leads,palette='Set1')\n",
    "plt.xticks(rotation = 90)"
   ]
  },
  {
   "cell_type": "markdown",
   "metadata": {
    "id": "QY1AMXbmOMDA"
   },
   "source": [
    "Inference\n",
    "\n",
    "Most entries are 'No'. No Inference can be drawn with this parameter."
   ]
  },
  {
   "cell_type": "markdown",
   "metadata": {
    "id": "TxLjrRRjOL_U"
   },
   "source": [
    "20) Receive More Updates About Our Courses"
   ]
  },
  {
   "cell_type": "code",
   "execution_count": null,
   "metadata": {
    "colab": {
     "base_uri": "https://localhost:8080/",
     "height": 471
    },
    "id": "0yxaoT1wOHW3",
    "outputId": "bd3089c4-d652-48f0-acca-5935a8498c33"
   },
   "outputs": [],
   "source": [
    "sns.countplot(x = \"Receive More Updates About Our Courses\", hue = \"Converted\", data = leads,palette='Set1')\n",
    "plt.xticks(rotation = 90)"
   ]
  },
  {
   "cell_type": "markdown",
   "metadata": {
    "id": "OmacnlCaOcw9"
   },
   "source": [
    "Inference\n",
    "Most entries are 'No'. No Inference can be drawn with this parameter."
   ]
  },
  {
   "cell_type": "markdown",
   "metadata": {
    "id": "PuP1NRYkOcka"
   },
   "source": [
    "21) Tags"
   ]
  },
  {
   "cell_type": "code",
   "execution_count": null,
   "metadata": {
    "colab": {
     "base_uri": "https://localhost:8080/",
     "height": 1000
    },
    "id": "f9JZIDUUOX97",
    "outputId": "35b8995b-3a90-465e-df88-9e388feb8549"
   },
   "outputs": [],
   "source": [
    "plt.figure(figsize=(15,6))\n",
    "sns.countplot(x = \"Tags\", hue = \"Converted\", data = leads,palette='Set1')\n",
    "plt.xticks(rotation = 90)"
   ]
  },
  {
   "cell_type": "markdown",
   "metadata": {
    "id": "L6Yi6koYOtYs"
   },
   "source": [
    "Inference\n",
    "\n",
    "Since this is a column which is generated by the sales team for their analysis , so this is not available for model building . So we will need to remove this column before building the model."
   ]
  },
  {
   "cell_type": "markdown",
   "metadata": {
    "id": "Z_3_B-YKOtK2"
   },
   "source": [
    "22) Update me on Supply Chain Content"
   ]
  },
  {
   "cell_type": "code",
   "execution_count": null,
   "metadata": {
    "colab": {
     "base_uri": "https://localhost:8080/",
     "height": 471
    },
    "id": "0KPpXi-sOnSk",
    "outputId": "2bf33576-896f-40ea-a85a-e16c6a1191d1"
   },
   "outputs": [],
   "source": [
    "sns.countplot(x = \"Update me on Supply Chain Content\", hue = \"Converted\", data = leads,palette='Set1')\n",
    "plt.xticks(rotation = 90)"
   ]
  },
  {
   "cell_type": "markdown",
   "metadata": {
    "id": "c45IH_YxPAc6"
   },
   "source": [
    "Inference\n",
    "\n",
    "Most entries are 'No'. No Inference can be drawn with this parameter."
   ]
  },
  {
   "cell_type": "markdown",
   "metadata": {
    "id": "dphECLCEPANs"
   },
   "source": [
    "23) Get updates on DM Content"
   ]
  },
  {
   "cell_type": "code",
   "execution_count": null,
   "metadata": {
    "colab": {
     "base_uri": "https://localhost:8080/",
     "height": 471
    },
    "id": "s7SUl7HmO5le",
    "outputId": "4a8c6e0d-9068-47ac-a593-acc6adb54e62"
   },
   "outputs": [],
   "source": [
    "sns.countplot(x = \"Get updates on DM Content\", hue = \"Converted\", data = leads,palette='Set1')\n",
    "plt.xticks(rotation = 90)"
   ]
  },
  {
   "cell_type": "markdown",
   "metadata": {
    "id": "tXhL_ks6PPgD"
   },
   "source": [
    "Inference\n",
    "\n",
    "Most entries are 'No'. No Inference can be drawn with this parameter."
   ]
  },
  {
   "cell_type": "markdown",
   "metadata": {
    "id": "9xox646cPPSP"
   },
   "source": [
    "24) City"
   ]
  },
  {
   "cell_type": "code",
   "execution_count": null,
   "metadata": {
    "colab": {
     "base_uri": "https://localhost:8080/",
     "height": 698
    },
    "id": "ZX35rzHhPLYm",
    "outputId": "ac2a833f-5c86-4af2-c92d-d89f1b63cbd6"
   },
   "outputs": [],
   "source": [
    "plt.figure(figsize=(15,5))\n",
    "sns.countplot(x = \"City\", hue = \"Converted\", data = leads,palette='Set1')\n",
    "plt.xticks(rotation = 90)"
   ]
  },
  {
   "cell_type": "markdown",
   "metadata": {
    "id": "l9eYPNtpPl_A"
   },
   "source": [
    "Inference\n",
    "\n",
    "Most leads are from mumbai with around 50% conversion rate."
   ]
  },
  {
   "cell_type": "markdown",
   "metadata": {
    "id": "t2sK2HEnPlxj"
   },
   "source": [
    "25) I agree to pay the amount through cheque"
   ]
  },
  {
   "cell_type": "code",
   "execution_count": null,
   "metadata": {
    "colab": {
     "base_uri": "https://localhost:8080/",
     "height": 471
    },
    "id": "Cd7Q54VqPgwz",
    "outputId": "aea4307d-2498-44fc-f7ce-9047dbd45ef4"
   },
   "outputs": [],
   "source": [
    "sns.countplot(x = \"I agree to pay the amount through cheque\", hue = \"Converted\", data = leads,palette='Set1')\n",
    "plt.xticks(rotation = 90)"
   ]
  },
  {
   "cell_type": "markdown",
   "metadata": {
    "id": "lZbZYwEoP4zP"
   },
   "source": [
    "Inference\n",
    "\n",
    "Most entries are 'No'. No Inference can be drawn with this parameter."
   ]
  },
  {
   "cell_type": "markdown",
   "metadata": {
    "id": "VClDKz3AP4pU"
   },
   "source": [
    "26) A free copy of Mastering The Interview"
   ]
  },
  {
   "cell_type": "code",
   "execution_count": null,
   "metadata": {
    "colab": {
     "base_uri": "https://localhost:8080/",
     "height": 475
    },
    "id": "AIeiHbzFP0MK",
    "outputId": "b6bb10db-c50d-41dd-c94e-6760f92c35b5"
   },
   "outputs": [],
   "source": [
    "sns.countplot(x = \"A free copy of Mastering The Interview\", hue = \"Converted\", data = leads,palette='Set1')\n",
    "plt.xticks(rotation = 90)"
   ]
  },
  {
   "cell_type": "markdown",
   "metadata": {
    "id": "K_qtx3_GQIYM"
   },
   "source": [
    "Inference\n",
    "\n",
    "Most entries are 'No'. No Inference can be drawn with this parameter."
   ]
  },
  {
   "cell_type": "markdown",
   "metadata": {
    "id": "9ZjtYeYLQIUJ"
   },
   "source": [
    "27) Last Notable Activity"
   ]
  },
  {
   "cell_type": "code",
   "execution_count": null,
   "metadata": {
    "colab": {
     "base_uri": "https://localhost:8080/",
     "height": 872
    },
    "id": "HFc5trZ4QDjV",
    "outputId": "b359356d-cb6c-420a-a387-082ea2a9391a"
   },
   "outputs": [],
   "source": [
    "plt.figure(figsize=(15,5))\n",
    "sns.countplot(x = \"Last Notable Activity\", hue = \"Converted\", data = leads,palette='Set1')\n",
    "plt.xticks(rotation = 90)"
   ]
  },
  {
   "cell_type": "markdown",
   "metadata": {
    "id": "nXjhFoSsQXth"
   },
   "source": [
    "Results\n",
    "\n",
    "**Based on the univariate analysis we have seen that many columns are not adding any information to the model, hence we can drop them for further analysis**"
   ]
  },
  {
   "cell_type": "code",
   "execution_count": null,
   "metadata": {
    "id": "tjzJJSIYQSfN"
   },
   "outputs": [],
   "source": [
    "leads = leads.drop(['Lead Number','Tags','Country','Search','Magazine','Newspaper Article','X Education Forums',\n",
    "                            'Newspaper','Digital Advertisement','Through Recommendations','Receive More Updates About Our Courses',\n",
    "                            'Update me on Supply Chain Content','Get updates on DM Content','I agree to pay the amount through cheque',\n",
    "                            'A free copy of Mastering The Interview'],axis=1)"
   ]
  },
  {
   "cell_type": "code",
   "execution_count": null,
   "metadata": {
    "colab": {
     "base_uri": "https://localhost:8080/"
    },
    "id": "vh4FNLBMQhx1",
    "outputId": "9fa6f482-f869-4130-d5e1-9596172729cc"
   },
   "outputs": [],
   "source": [
    "leads.shape"
   ]
  },
  {
   "cell_type": "code",
   "execution_count": null,
   "metadata": {
    "colab": {
     "base_uri": "https://localhost:8080/"
    },
    "id": "z9LsEWEs6ech",
    "outputId": "a4d1bb30-1961-456c-e5ce-59c925a5c437"
   },
   "outputs": [],
   "source": [
    "leads.info()"
   ]
  },
  {
   "cell_type": "markdown",
   "metadata": {
    "id": "pvTiOIQl6r2f"
   },
   "source": [
    "Data Preparation"
   ]
  },
  {
   "cell_type": "markdown",
   "metadata": {
    "id": "wq9jPAAi6rp_"
   },
   "source": [
    "1) Converting some binary variables (Yes/No) to 1/0"
   ]
  },
  {
   "cell_type": "code",
   "execution_count": null,
   "metadata": {
    "id": "-rz79FTG6jHx"
   },
   "outputs": [],
   "source": [
    "vars =  ['Do Not Email', 'Do Not Call']\n",
    "\n",
    "def binary_map(x):\n",
    "    return x.map({'Yes': 1, \"No\": 0})\n",
    "\n",
    "leads[vars] = leads[vars].apply(binary_map)"
   ]
  },
  {
   "cell_type": "markdown",
   "metadata": {
    "id": "gh1YuZfi-ct9"
   },
   "source": [
    "2) Creating Dummy variables for the categorical features:\n",
    "\n",
    "'Lead Origin', 'Lead Source', 'Last Activity', 'Specialization','What is your current occupation','City','Last Notable Activity'"
   ]
  },
  {
   "cell_type": "code",
   "execution_count": null,
   "metadata": {
    "colab": {
     "base_uri": "https://localhost:8080/",
     "height": 307
    },
    "id": "XkkeT4qM7PDK",
    "outputId": "cb796e5f-0d2c-40a4-80fc-ab6650d62b9e"
   },
   "outputs": [],
   "source": [
    "# Creating a dummy variable for the categorical variables and dropping the first one.\n",
    "dummy_data = pd.get_dummies(leads[['Lead Origin', 'Lead Source', 'Last Activity', 'Specialization','What is your current occupation',\n",
    "                             'City','Last Notable Activity']], drop_first=True)\n",
    "dummy_data.head()"
   ]
  },
  {
   "cell_type": "code",
   "execution_count": null,
   "metadata": {
    "colab": {
     "base_uri": "https://localhost:8080/",
     "height": 568
    },
    "id": "ElHuMdZ2-qXI",
    "outputId": "f9742a20-944a-4f8b-f950-9e75d60342ce"
   },
   "outputs": [],
   "source": [
    "# Concatenating the dummy_data to the lead_data dataframe\n",
    "leads = pd.concat([leads, dummy_data], axis=1)\n",
    "leads.head()"
   ]
  },
  {
   "cell_type": "markdown",
   "metadata": {
    "id": "FkXAeAsy-57l"
   },
   "source": [
    "Dropping the columns for which dummies were created"
   ]
  },
  {
   "cell_type": "code",
   "execution_count": null,
   "metadata": {
    "id": "wPfBLEVM-zxX"
   },
   "outputs": [],
   "source": [
    "leads = leads.drop(['Lead Origin', 'Lead Source', 'Last Activity', 'Specialization','What is your current occupation',\n",
    "                             'City','Last Notable Activity'], axis = 1)"
   ]
  },
  {
   "cell_type": "code",
   "execution_count": null,
   "metadata": {
    "colab": {
     "base_uri": "https://localhost:8080/",
     "height": 568
    },
    "id": "5uCZA2Ls_CCL",
    "outputId": "cffb0a06-ac8d-45ff-8632-8698c13e2e41"
   },
   "outputs": [],
   "source": [
    "leads.head()"
   ]
  },
  {
   "cell_type": "markdown",
   "metadata": {
    "id": "SJu_FXJ9_U--"
   },
   "source": [
    "3) Splitting the data into train and test set."
   ]
  },
  {
   "cell_type": "code",
   "execution_count": null,
   "metadata": {
    "colab": {
     "base_uri": "https://localhost:8080/",
     "height": 325
    },
    "id": "Qmj9lYZO_Lj-",
    "outputId": "64c69d2d-1b13-42e4-9735-4423d756854c"
   },
   "outputs": [],
   "source": [
    "from sklearn.model_selection import train_test_split\n",
    "\n",
    "# Putting feature variable to X\n",
    "X = leads.drop(['Prospect ID','Converted'], axis=1)\n",
    "X.head()"
   ]
  },
  {
   "cell_type": "code",
   "execution_count": null,
   "metadata": {
    "colab": {
     "base_uri": "https://localhost:8080/",
     "height": 241
    },
    "id": "224wpVLO_b7q",
    "outputId": "7cd5e199-2873-4d4b-87e4-4ec8ef42c1dd"
   },
   "outputs": [],
   "source": [
    "# Putting target variable to y\n",
    "y = leads['Converted']\n",
    "\n",
    "y.head()"
   ]
  },
  {
   "cell_type": "code",
   "execution_count": null,
   "metadata": {
    "id": "I-MdH_ap_nbZ"
   },
   "outputs": [],
   "source": [
    "# Splitting the data into train and test\n",
    "X_train, X_test, y_train, y_test = train_test_split(X, y, train_size=0.7, test_size=0.3, random_state=100)"
   ]
  },
  {
   "cell_type": "markdown",
   "metadata": {
    "id": "dP4wxUZG_yg2"
   },
   "source": [
    "4) Scaling the features"
   ]
  },
  {
   "cell_type": "code",
   "execution_count": null,
   "metadata": {
    "colab": {
     "base_uri": "https://localhost:8080/",
     "height": 307
    },
    "id": "uGPmI_N8_wAH",
    "outputId": "85080ffd-9840-4362-f361-84780670e8df"
   },
   "outputs": [],
   "source": [
    "from sklearn.preprocessing import StandardScaler\n",
    "\n",
    "scaler = StandardScaler()\n",
    "\n",
    "X_train[['TotalVisits','Total Time Spent on Website','Page Views Per Visit']] = scaler.fit_transform(X_train[['TotalVisits','Total Time Spent on Website','Page Views Per Visit']])\n",
    "\n",
    "X_train.head()"
   ]
  },
  {
   "cell_type": "code",
   "execution_count": null,
   "metadata": {
    "colab": {
     "base_uri": "https://localhost:8080/"
    },
    "id": "pknz9Ihg_-Bc",
    "outputId": "2121e60e-1b56-4ebe-b68a-1d2bfa5a4343"
   },
   "outputs": [],
   "source": [
    "# Checking the Lead Conversion rate\n",
    "Converted = (sum(leads['Converted'])/len(leads['Converted'].index))*100\n",
    "Converted"
   ]
  },
  {
   "cell_type": "markdown",
   "metadata": {
    "id": "Z9fSWq13ANvR"
   },
   "source": [
    "We have almost 38% lead conversion rate."
   ]
  },
  {
   "cell_type": "markdown",
   "metadata": {
    "id": "VP74O3jAAPbZ"
   },
   "source": [
    "Feature Selection Using RFE"
   ]
  },
  {
   "cell_type": "code",
   "execution_count": null,
   "metadata": {
    "id": "JiKKp2slAGyG"
   },
   "outputs": [],
   "source": [
    "from sklearn.linear_model import LogisticRegression\n",
    "logreg = LogisticRegression()\n",
    "\n",
    "from sklearn.feature_selection import RFE\n",
    "rfe = RFE(logreg, step=20)\n",
    "rfe = rfe.fit(X_train, y_train)"
   ]
  },
  {
   "cell_type": "code",
   "execution_count": null,
   "metadata": {
    "colab": {
     "base_uri": "https://localhost:8080/"
    },
    "id": "-6y6ahOKAadP",
    "outputId": "971caaf8-fdf4-4c29-cacd-a45308529a2c"
   },
   "outputs": [],
   "source": [
    "rfe.support_"
   ]
  },
  {
   "cell_type": "code",
   "execution_count": null,
   "metadata": {
    "colab": {
     "base_uri": "https://localhost:8080/"
    },
    "id": "bRk74IR4BRGR",
    "outputId": "368cd955-04b0-4d76-b318-9f15bc6adbae"
   },
   "outputs": [],
   "source": [
    "list(zip(X_train.columns, rfe.support_, rfe.ranking_))"
   ]
  },
  {
   "cell_type": "code",
   "execution_count": null,
   "metadata": {
    "colab": {
     "base_uri": "https://localhost:8080/"
    },
    "id": "XCmmbhWUBWB4",
    "outputId": "7df8e943-6e2a-4f4b-b141-23d1e0857b8d"
   },
   "outputs": [],
   "source": [
    "# Viewing columns selected by RFE\n",
    "cols = X_train.columns[rfe.support_]\n",
    "cols"
   ]
  },
  {
   "cell_type": "markdown",
   "metadata": {
    "id": "qxYNfDpABfwf"
   },
   "source": [
    "Model Building"
   ]
  },
  {
   "cell_type": "markdown",
   "metadata": {
    "id": "9Ii_zX4SBiZs"
   },
   "source": [
    "Assessing the model with StatsModels\n",
    "\n",
    "Model-1"
   ]
  },
  {
   "cell_type": "code",
   "execution_count": null,
   "metadata": {
    "id": "IKIAy6bPBblz"
   },
   "outputs": [],
   "source": [
    "import statsmodels.api as sm"
   ]
  },
  {
   "cell_type": "code",
   "execution_count": null,
   "metadata": {
    "colab": {
     "base_uri": "https://localhost:8080/",
     "height": 339
    },
    "id": "6V8WTKzJBrw4",
    "outputId": "25b721ff-b562-4621-9229-259fc35d8431"
   },
   "outputs": [],
   "source": [
    "X_train_sm = sm.add_constant(X_train)\n",
    "logm2 = sm.GLM(np.array(y_train), X_train_sm, family = sm.families.Binomial())\n",
    "res = logm2.fit()\n",
    "res.summary()"
   ]
  },
  {
   "cell_type": "markdown",
   "metadata": {
    "id": "GOHd70JbZGNx"
   },
   "source": [
    "Since Pvalue of 'What is your current occupation_Housewife' is very high, we can drop this column."
   ]
  },
  {
   "cell_type": "code",
   "execution_count": null,
   "metadata": {
    "colab": {
     "base_uri": "https://localhost:8080/",
     "height": 158
    },
    "id": "xqf73NzvBvrT",
    "outputId": "dd003159-4c9a-452e-b03d-a228fd699671"
   },
   "outputs": [],
   "source": [
    "# Dropping the column 'What is your current occupation_Housewife'\n",
    "col1 = cols.drop('What is your current occupation_Housewife')"
   ]
  },
  {
   "cell_type": "markdown",
   "metadata": {
    "id": "9dmElnnsZUXf"
   },
   "source": [
    "Model-2"
   ]
  },
  {
   "cell_type": "code",
   "execution_count": null,
   "metadata": {
    "id": "Oip1vOUcZWPp"
   },
   "outputs": [],
   "source": [
    "X_train_sm = sm.add_constant(X_train[col1])\n",
    "logm2 = sm.GLM(y_train,X_train_sm, family = sm.families.Binomial())\n",
    "res = logm2.fit()\n",
    "res.summary()"
   ]
  },
  {
   "cell_type": "markdown",
   "metadata": {
    "id": "WbgsNRg7Zg_o"
   },
   "source": [
    "Since Pvalue of 'Last Notable Activity_Had a Phone Conversation' is very high, we can drop this column."
   ]
  },
  {
   "cell_type": "code",
   "execution_count": null,
   "metadata": {
    "id": "5ZNX77eaZire"
   },
   "outputs": [],
   "source": [
    "col1 = col1.drop('Last Notable Activity_Had a Phone Conversation')"
   ]
  },
  {
   "cell_type": "markdown",
   "metadata": {
    "id": "tUSStfEMZoBF"
   },
   "source": [
    "Model-3"
   ]
  },
  {
   "cell_type": "code",
   "execution_count": null,
   "metadata": {
    "id": "8DQeuVxOZsid"
   },
   "outputs": [],
   "source": [
    "X_train_sm = sm.add_constant(X_train[col1])\n",
    "logm3 = sm.GLM(y_train,X_train_sm, family = sm.families.Binomial())\n",
    "res = logm3.fit()\n",
    "res.summary()"
   ]
  },
  {
   "cell_type": "markdown",
   "metadata": {
    "id": "MaMhWy08ZyR6"
   },
   "source": [
    "Since Pvalue of 'What is your current occupation_Student' is very high, we can drop this column."
   ]
  },
  {
   "cell_type": "code",
   "execution_count": null,
   "metadata": {
    "id": "pGH_ATjBZ0GS"
   },
   "outputs": [],
   "source": [
    "col1 = col1.drop('What is your current occupation_Student')"
   ]
  },
  {
   "cell_type": "markdown",
   "metadata": {
    "id": "7tnPcsifZ7gO"
   },
   "source": [
    "Model-4"
   ]
  },
  {
   "cell_type": "code",
   "execution_count": null,
   "metadata": {
    "id": "0lutSZpfaAAl"
   },
   "outputs": [],
   "source": [
    "X_train_sm = sm.add_constant(X_train[col1])\n",
    "logm4 = sm.GLM(y_train,X_train_sm, family = sm.families.Binomial())\n",
    "res = logm4.fit()\n",
    "res.summary()"
   ]
  },
  {
   "cell_type": "markdown",
   "metadata": {
    "id": "OkmCwOZCaGWw"
   },
   "source": [
    "Since Pvalue of 'Lead Origin_Lead Add Form' is very high, we can drop this column."
   ]
  },
  {
   "cell_type": "code",
   "execution_count": null,
   "metadata": {
    "id": "ddCdeS9PaBhl"
   },
   "outputs": [],
   "source": [
    "col1 = col1.drop('Lead Origin_Lead Add Form')"
   ]
  },
  {
   "cell_type": "markdown",
   "metadata": {
    "id": "wBPQtkeWaPRT"
   },
   "source": [
    "Model-5"
   ]
  },
  {
   "cell_type": "code",
   "execution_count": null,
   "metadata": {
    "id": "ZVFnGqnUaQ9G"
   },
   "outputs": [],
   "source": [
    "X_train_sm = sm.add_constant(X_train[col1])\n",
    "logm5 = sm.GLM(y_train,X_train_sm, family = sm.families.Binomial())\n",
    "res = logm5.fit()\n",
    "res.summary()"
   ]
  },
  {
   "cell_type": "markdown",
   "metadata": {
    "id": "F_NH8SOXaVlH"
   },
   "source": [
    "Checking for VIF values:"
   ]
  },
  {
   "cell_type": "code",
   "execution_count": null,
   "metadata": {
    "id": "qKM5kdr0aWqj"
   },
   "outputs": [],
   "source": [
    "# Check for the VIF values of the feature variables.\n",
    "from statsmodels.stats.outliers_influence import variance_inflation_factor\n",
    "\n",
    "# Create a dataframe that will contain the names of all the feature variables and their respective VIFs\n",
    "vif = pd.DataFrame()\n",
    "vif['Features'] = X_train[col1].columns\n",
    "vif['VIF'] = [variance_inflation_factor(X_train[col1].values, i) for i in range(X_train[col1].shape[1])]\n",
    "vif['VIF'] = round(vif['VIF'], 2)\n",
    "vif = vif.sort_values(by = \"VIF\", ascending = False)\n",
    "vif"
   ]
  },
  {
   "cell_type": "code",
   "execution_count": null,
   "metadata": {
    "id": "xXGywlXGaxh3"
   },
   "outputs": [],
   "source": [
    "# Dropping the column  'What is your current occupation_Unemployed' because it has high VIF\n",
    "col1 = col1.drop('What is your current occupation_Unemployed')"
   ]
  },
  {
   "cell_type": "markdown",
   "metadata": {
    "id": "2sM3LyKIaywt"
   },
   "source": [
    "Model-6"
   ]
  },
  {
   "cell_type": "code",
   "execution_count": null,
   "metadata": {
    "id": "0MJyiz9fa3yo"
   },
   "outputs": [],
   "source": [
    "X_train_sm = sm.add_constant(X_train[col1])\n",
    "logm5 = sm.GLM(y_train,X_train_sm, family = sm.families.Binomial())\n",
    "res = logm5.fit()\n",
    "res.summary()"
   ]
  },
  {
   "cell_type": "code",
   "execution_count": null,
   "metadata": {
    "id": "ccWKplXMa8X2"
   },
   "outputs": [],
   "source": [
    "# Dropping the column  'Lead Origin_Lead Import' because it has high Pvalue\n",
    "col1 = col1.drop('Lead Origin_Lead Import')"
   ]
  },
  {
   "cell_type": "markdown",
   "metadata": {
    "id": "4zgKubiKbAmY"
   },
   "source": [
    "Model-7"
   ]
  },
  {
   "cell_type": "code",
   "execution_count": null,
   "metadata": {
    "id": "fmQIKPUEbC7H"
   },
   "outputs": [],
   "source": [
    "X_train_sm = sm.add_constant(X_train[col1])\n",
    "logm5 = sm.GLM(y_train,X_train_sm, family = sm.families.Binomial())\n",
    "res = logm5.fit()\n",
    "res.summary()"
   ]
  },
  {
   "cell_type": "markdown",
   "metadata": {
    "id": "Skwn84eObKIS"
   },
   "source": [
    "Checking for VIF values"
   ]
  },
  {
   "cell_type": "code",
   "execution_count": null,
   "metadata": {
    "id": "z1hxTgS9bLBV"
   },
   "outputs": [],
   "source": [
    "# Check for the VIF values of the feature variables.\n",
    "from statsmodels.stats.outliers_influence import variance_inflation_factor\n",
    "\n",
    "# Create a dataframe that will contain the names of all the feature variables and their respective VIFs\n",
    "vif = pd.DataFrame()\n",
    "vif['Features'] = X_train[col1].columns\n",
    "vif['VIF'] = [variance_inflation_factor(X_train[col1].values, i) for i in range(X_train[col1].shape[1])]\n",
    "vif['VIF'] = round(vif['VIF'], 2)\n",
    "vif = vif.sort_values(by = \"VIF\", ascending = False)\n",
    "vif"
   ]
  },
  {
   "cell_type": "code",
   "execution_count": null,
   "metadata": {
    "id": "P01H03yabS-s"
   },
   "outputs": [],
   "source": [
    "# Dropping the column  'Last Activity_Unsubscribed' to reduce the variables\n",
    "col1 = col1.drop('Last Activity_Unsubscribed')"
   ]
  },
  {
   "cell_type": "markdown",
   "metadata": {
    "id": "IC9L9R4JbW2y"
   },
   "source": [
    "Model-8"
   ]
  },
  {
   "cell_type": "code",
   "execution_count": null,
   "metadata": {
    "id": "WvDwEv1hbYqz"
   },
   "outputs": [],
   "source": [
    "X_train_sm = sm.add_constant(X_train[col1])\n",
    "logm5 = sm.GLM(y_train,X_train_sm, family = sm.families.Binomial())\n",
    "res = logm5.fit()\n",
    "res.summary()"
   ]
  },
  {
   "cell_type": "markdown",
   "metadata": {
    "id": "nhuZ-6msbdJh"
   },
   "source": [
    "Checking for VIF values:"
   ]
  },
  {
   "cell_type": "code",
   "execution_count": null,
   "metadata": {
    "id": "9KdE06LvbeH_"
   },
   "outputs": [],
   "source": [
    "# Check for the VIF values of the feature variables.\n",
    "from statsmodels.stats.outliers_influence import variance_inflation_factor\n",
    "\n",
    "# Create a dataframe that will contain the names of all the feature variables and their respective VIFs\n",
    "vif = pd.DataFrame()\n",
    "vif['Features'] = X_train[col1].columns\n",
    "vif['VIF'] = [variance_inflation_factor(X_train[col1].values, i) for i in range(X_train[col1].shape[1])]\n",
    "vif['VIF'] = round(vif['VIF'], 2)\n",
    "vif = vif.sort_values(by = \"VIF\", ascending = False)\n",
    "vif"
   ]
  },
  {
   "cell_type": "code",
   "execution_count": null,
   "metadata": {
    "id": "zRrLKS92bm1Y"
   },
   "outputs": [],
   "source": [
    "# Dropping the column  'Last Notable Activity_Unreachable' to reduce the variables\n",
    "col1 = col1.drop('Last Notable Activity_Unreachable')"
   ]
  },
  {
   "cell_type": "markdown",
   "metadata": {
    "id": "z8gCcnk3botG"
   },
   "source": [
    "Model-9"
   ]
  },
  {
   "cell_type": "code",
   "execution_count": null,
   "metadata": {
    "id": "QMj6o18ObwSg"
   },
   "outputs": [],
   "source": [
    "X_train_sm = sm.add_constant(X_train[col1])\n",
    "logm5 = sm.GLM(y_train,X_train_sm, family = sm.families.Binomial())\n",
    "res = logm5.fit()\n",
    "res.summary()"
   ]
  },
  {
   "cell_type": "markdown",
   "metadata": {
    "id": "q2NzGpoUb1gW"
   },
   "source": [
    "Checking for VIF values:"
   ]
  },
  {
   "cell_type": "code",
   "execution_count": null,
   "metadata": {
    "id": "1T7b1THcb2oP"
   },
   "outputs": [],
   "source": [
    "# Check for the VIF values of the feature variables.\n",
    "from statsmodels.stats.outliers_influence import variance_inflation_factor\n",
    "\n",
    "# Create a dataframe that will contain the names of all the feature variables and their respective VIFs\n",
    "vif = pd.DataFrame()\n",
    "vif['Features'] = X_train[col1].columns\n",
    "vif['VIF'] = [variance_inflation_factor(X_train[col1].values, i) for i in range(X_train[col1].shape[1])]\n",
    "vif['VIF'] = round(vif['VIF'], 2)\n",
    "vif = vif.sort_values(by = \"VIF\", ascending = False)\n",
    "vif"
   ]
  },
  {
   "cell_type": "markdown",
   "metadata": {
    "id": "dIRE8yJrb_Gb"
   },
   "source": [
    "Since the Pvalues of all variables is 0 and VIF values are low for all the variables, model-9 is our final model. We have 12 variables in our final model."
   ]
  },
  {
   "cell_type": "markdown",
   "metadata": {
    "id": "Q5v2uBaMcEhk"
   },
   "source": [
    "Making Prediction on the Train set"
   ]
  },
  {
   "cell_type": "code",
   "execution_count": null,
   "metadata": {
    "id": "kY9W5e83cD6y"
   },
   "outputs": [],
   "source": [
    "# Getting the predicted values on the train set\n",
    "y_train_pred = res.predict(X_train_sm)\n",
    "y_train_pred[:10]"
   ]
  },
  {
   "cell_type": "code",
   "execution_count": null,
   "metadata": {
    "id": "jeH8tuC1cOqQ"
   },
   "outputs": [],
   "source": [
    "# Reshaping into an array\n",
    "y_train_pred = y_train_pred.values.reshape(-1)\n",
    "y_train_pred[:10]"
   ]
  },
  {
   "cell_type": "markdown",
   "metadata": {
    "id": "vY68wEORcTwE"
   },
   "source": [
    "Creating a dataframe with the actual Converted flag and the predicted probabilities"
   ]
  },
  {
   "cell_type": "code",
   "execution_count": null,
   "metadata": {
    "id": "0BnVpduBcUyt"
   },
   "outputs": [],
   "source": [
    "y_train_pred_final = pd.DataFrame({'Converted':y_train.values, 'Converted_prob':y_train_pred})\n",
    "y_train_pred_final['Prospect ID'] = y_train.index\n",
    "y_train_pred_final.head()"
   ]
  },
  {
   "cell_type": "markdown",
   "metadata": {
    "id": "gawbEmsecds0"
   },
   "source": [
    "Choosing an arbitrary cut-off probability point of 0.5 to find the predicted labels\n",
    "\n",
    "Creating new column 'predicted' with 1 if Converted_Prob > 0.5 else 0"
   ]
  },
  {
   "cell_type": "code",
   "execution_count": null,
   "metadata": {
    "id": "TjlgJcmRcgoz"
   },
   "outputs": [],
   "source": [
    "y_train_pred_final['predicted'] = y_train_pred_final.Converted_prob.map(lambda x: 1 if x > 0.5 else 0)\n",
    "\n",
    "# Let's see the head\n",
    "y_train_pred_final.head()"
   ]
  },
  {
   "cell_type": "markdown",
   "metadata": {
    "id": "NipbQDNncpY-"
   },
   "source": [
    "Making the Confusion matrix"
   ]
  },
  {
   "cell_type": "code",
   "execution_count": null,
   "metadata": {
    "id": "tR3JzOTWcqzi"
   },
   "outputs": [],
   "source": [
    "from sklearn import metrics\n",
    "\n",
    "# Confusion matrix\n",
    "confusion = metrics.confusion_matrix(y_train_pred_final.Converted, y_train_pred_final.predicted )\n",
    "print(confusion)"
   ]
  },
  {
   "cell_type": "code",
   "execution_count": null,
   "metadata": {
    "id": "yxKSi__4c3kj"
   },
   "outputs": [],
   "source": [
    "# Let's check the overall accuracy.\n",
    "print('Accuracy :',metrics.accuracy_score(y_train_pred_final.Converted, y_train_pred_final.predicted))"
   ]
  },
  {
   "cell_type": "markdown",
   "metadata": {
    "id": "zhsD3wA3c-La"
   },
   "source": [
    "Metrics beyond simply accuracy"
   ]
  },
  {
   "cell_type": "code",
   "execution_count": null,
   "metadata": {
    "id": "VPzTX6Eec_Pq"
   },
   "outputs": [],
   "source": [
    "TP = confusion[1,1] # true positive\n",
    "TN = confusion[0,0] # true negatives\n",
    "FP = confusion[0,1] # false positives\n",
    "FN = confusion[1,0] # false negatives"
   ]
  },
  {
   "cell_type": "code",
   "execution_count": null,
   "metadata": {
    "id": "QEbrNqejdH4Q"
   },
   "outputs": [],
   "source": [
    "# Sensitivity of our logistic regression model\n",
    "print(\"Sensitivity : \",TP / float(TP+FN))"
   ]
  },
  {
   "cell_type": "code",
   "execution_count": null,
   "metadata": {
    "id": "-R8CiAf4dL9N"
   },
   "outputs": [],
   "source": [
    "# Let us calculate specificity\n",
    "print(\"Specificity : \",TN / float(TN+FP))"
   ]
  },
  {
   "cell_type": "code",
   "execution_count": null,
   "metadata": {
    "id": "wl41gQc5dQIH"
   },
   "outputs": [],
   "source": [
    "# Calculate false postive rate - predicting converted lead when the lead actually was not converted\n",
    "print(\"False Positive Rate :\",FP/ float(TN+FP))"
   ]
  },
  {
   "cell_type": "code",
   "execution_count": null,
   "metadata": {
    "id": "aS0L_bmjdUxg"
   },
   "outputs": [],
   "source": [
    "# positive predictive value\n",
    "print(\"Positive Predictive Value :\",TP / float(TP+FP))"
   ]
  },
  {
   "cell_type": "code",
   "execution_count": null,
   "metadata": {
    "id": "j4GFgw-_dZJn"
   },
   "outputs": [],
   "source": [
    "# Negative predictive value\n",
    "print (\"Negative predictive value :\",TN / float(TN+ FN))"
   ]
  },
  {
   "cell_type": "markdown",
   "metadata": {
    "id": "3Sktzbl-daRv"
   },
   "source": [
    "We found out that our specificity was good (~88%) but our sensitivity was only 70%. Hence, this needed to be taken care of.\n",
    "\n",
    "We have got sensitivity of 70% and this was mainly because of the cut-off point of 0.5 that we had arbitrarily chosen. Now, this cut-off point had to be optimised in order to get a decent value of sensitivity and for this we will use the ROC curve."
   ]
  },
  {
   "cell_type": "markdown",
   "metadata": {
    "id": "6fUWTXJDdnD0"
   },
   "source": [
    "**Plotting the ROC Curve**\n",
    "\n",
    "An ROC curve demonstrates several things:\n",
    "\n",
    "It shows the tradeoff between sensitivity and specificity (any increase in sensitivity will be accompanied by a decrease in specificity).\n",
    "\n",
    "The closer the curve follows the left-hand border and then the top border of the ROC space, the more accurate the test.\n",
    "\n",
    "The closer the curve comes to the 45-degree diagonal of the ROC space, the less accurate the test."
   ]
  },
  {
   "cell_type": "code",
   "execution_count": null,
   "metadata": {
    "id": "GnbpNwnFdut6"
   },
   "outputs": [],
   "source": [
    "def draw_roc( actual, probs ):\n",
    "    fpr, tpr, thresholds = metrics.roc_curve( actual, probs,\n",
    "                                              drop_intermediate = False )\n",
    "    auc_score = metrics.roc_auc_score( actual, probs )\n",
    "    plt.figure(figsize=(5, 5))\n",
    "    plt.plot( fpr, tpr, label='ROC curve (area = %0.2f)' % auc_score )\n",
    "    plt.plot([0, 1], [0, 1], 'k--')\n",
    "    plt.xlim([0.0, 1.0])\n",
    "    plt.ylim([0.0, 1.05])\n",
    "    plt.xlabel('False Positive Rate or [1 - True Negative Rate]')\n",
    "    plt.ylabel('True Positive Rate')\n",
    "    plt.title('Receiver operating characteristic example')\n",
    "    plt.legend(loc=\"lower right\")\n",
    "    plt.show()\n",
    "\n",
    "    return None"
   ]
  },
  {
   "cell_type": "code",
   "execution_count": null,
   "metadata": {
    "id": "n8e_4HseeGBP"
   },
   "outputs": [],
   "source": [
    "fpr, tpr, thresholds = metrics.roc_curve( y_train_pred_final.Converted, y_train_pred_final.Converted_prob, drop_intermediate = False )"
   ]
  },
  {
   "cell_type": "code",
   "execution_count": null,
   "metadata": {
    "id": "_zjGn1RieFwr"
   },
   "outputs": [],
   "source": [
    "draw_roc(y_train_pred_final.Converted, y_train_pred_final.Converted_prob)"
   ]
  },
  {
   "cell_type": "markdown",
   "metadata": {
    "id": "kN81fkYleRLb"
   },
   "source": [
    "Since we have higher (0.89) area under the ROC curve , therefore our model is a good one."
   ]
  },
  {
   "cell_type": "markdown",
   "metadata": {
    "id": "L4myqj71eQ2k"
   },
   "source": [
    "Finding Optimal Cutoff Point\n",
    "\n",
    "Above we had chosen an arbitrary cut-off value of 0.5. We need to determine the best cut-off value and the below section deals with that. Optimal cutoff probability is that prob where we get balanced sensitivity and specificity"
   ]
  },
  {
   "cell_type": "code",
   "execution_count": null,
   "metadata": {
    "id": "uDFQ7FzZeQWh"
   },
   "outputs": [],
   "source": [
    "# Let's create columns with different probability cutoffs\n",
    "numbers = [float(x)/10 for x in range(10)]\n",
    "for i in numbers:\n",
    "    y_train_pred_final[i]= y_train_pred_final.Converted_prob.map(lambda x: 1 if x > i else 0)\n",
    "y_train_pred_final.head()"
   ]
  },
  {
   "cell_type": "code",
   "execution_count": null,
   "metadata": {
    "id": "P2QRhYWweiMN"
   },
   "outputs": [],
   "source": [
    "# Now let's calculate accuracy sensitivity and specificity for various probability cutoffs.\n",
    "cutoff_df = pd.DataFrame( columns = ['prob','accuracy','sensi','speci'])\n",
    "from sklearn.metrics import confusion_matrix\n",
    "\n",
    "# TP = confusion[1,1] # true positive\n",
    "# TN = confusion[0,0] # true negatives\n",
    "# FP = confusion[0,1] # false positives\n",
    "# FN = confusion[1,0] # false negatives\n",
    "\n",
    "num = [0.0,0.1,0.2,0.3,0.4,0.5,0.6,0.7,0.8,0.9]\n",
    "for i in num:\n",
    "    cm1 = metrics.confusion_matrix(y_train_pred_final.Converted, y_train_pred_final[i] )\n",
    "    total1=sum(sum(cm1))\n",
    "    accuracy = (cm1[0,0]+cm1[1,1])/total1\n",
    "\n",
    "    speci = cm1[0,0]/(cm1[0,0]+cm1[0,1])\n",
    "    sensi = cm1[1,1]/(cm1[1,0]+cm1[1,1])\n",
    "    cutoff_df.loc[i] =[ i ,accuracy,sensi,speci]\n",
    "print(cutoff_df)"
   ]
  },
  {
   "cell_type": "code",
   "execution_count": null,
   "metadata": {
    "id": "6atTflsLenHe"
   },
   "outputs": [],
   "source": [
    "# Let's plot accuracy sensitivity and specificity for various probabilities.\n",
    "cutoff_df.plot.line(x='prob', y=['accuracy','sensi','speci'])\n",
    "plt.show()"
   ]
  },
  {
   "cell_type": "markdown",
   "metadata": {
    "id": "H0TRs2l5erK8"
   },
   "source": [
    "From the curve above, 0.34 is the optimum point to take it as a cutoff probability."
   ]
  },
  {
   "cell_type": "code",
   "execution_count": null,
   "metadata": {
    "id": "CF23fmoxescs"
   },
   "outputs": [],
   "source": [
    "y_train_pred_final['final_predicted'] = y_train_pred_final.Converted_prob.map( lambda x: 1 if x > 0.34 else 0)\n",
    "\n",
    "y_train_pred_final.head()"
   ]
  },
  {
   "cell_type": "markdown",
   "metadata": {
    "id": "jdk0N9auezW6"
   },
   "source": [
    "Assigning Lead Score to the Training data"
   ]
  },
  {
   "cell_type": "code",
   "execution_count": null,
   "metadata": {
    "id": "E5jPMnpye0Qd"
   },
   "outputs": [],
   "source": [
    "y_train_pred_final['Lead_Score'] = y_train_pred_final.Converted_prob.map( lambda x: round(x*100))\n",
    "\n",
    "y_train_pred_final.head()"
   ]
  },
  {
   "cell_type": "markdown",
   "metadata": {
    "id": "w1fPDVpOe7a4"
   },
   "source": [
    "**Model Evaluation**"
   ]
  },
  {
   "cell_type": "code",
   "execution_count": null,
   "metadata": {
    "id": "rDeGoBnee9-1"
   },
   "outputs": [],
   "source": [
    "# Let's check the overall accuracy.\n",
    "print(\"Accuracy :\",metrics.accuracy_score(y_train_pred_final.Converted, y_train_pred_final.final_predicted))"
   ]
  },
  {
   "cell_type": "code",
   "execution_count": null,
   "metadata": {
    "id": "L7rNonD8fVX_"
   },
   "outputs": [],
   "source": [
    "# Confusion matrix\n",
    "confusion2 = metrics.confusion_matrix(y_train_pred_final.Converted, y_train_pred_final.final_predicted )\n",
    "confusion2"
   ]
  },
  {
   "cell_type": "code",
   "execution_count": null,
   "metadata": {
    "id": "3xqMa0Gufaos"
   },
   "outputs": [],
   "source": [
    "TP = confusion2[1,1] # true positive\n",
    "TN = confusion2[0,0] # true negatives\n",
    "FP = confusion2[0,1] # false positives\n",
    "FN = confusion2[1,0] # false negatives"
   ]
  },
  {
   "cell_type": "code",
   "execution_count": null,
   "metadata": {
    "id": "oh3Bc4DHfbqo"
   },
   "outputs": [],
   "source": [
    "# Let's see the sensitivity of our logistic regression model\n",
    "print(\"Sensitivity : \",TP / float(TP+FN))"
   ]
  },
  {
   "cell_type": "code",
   "execution_count": null,
   "metadata": {
    "id": "lZHGJK5JffMo"
   },
   "outputs": [],
   "source": [
    "# Let us calculate specificity\n",
    "print(\"Specificity :\",TN / float(TN+FP))"
   ]
  },
  {
   "cell_type": "code",
   "execution_count": null,
   "metadata": {
    "id": "Dzog9p5-fjSd"
   },
   "outputs": [],
   "source": [
    "# Calculate false postive rate - predicting converted lead when the lead was actually not have converted\n",
    "print(\"False Positive rate : \",FP/ float(TN+FP))"
   ]
  },
  {
   "cell_type": "code",
   "execution_count": null,
   "metadata": {
    "id": "vXVD6ouHfql1"
   },
   "outputs": [],
   "source": [
    "# Positive predictive value\n",
    "print(\"Positive Predictive Value :\",TP / float(TP+FP))"
   ]
  },
  {
   "cell_type": "code",
   "execution_count": null,
   "metadata": {
    "id": "wm_1CN7vfrar"
   },
   "outputs": [],
   "source": [
    "# Negative predictive value\n",
    "print(\"Negative Predictive Value : \",TN / float(TN+ FN))"
   ]
  },
  {
   "cell_type": "markdown",
   "metadata": {
    "id": "zQz9BCRzfxz7"
   },
   "source": [
    "**Precision and Recall**"
   ]
  },
  {
   "cell_type": "markdown",
   "metadata": {
    "id": "E3WXx7EjfxkZ"
   },
   "source": [
    "Precision = Also known as Positive Predictive Value, it refers to the percentage of the results which are relevant.\n",
    "\n",
    "Recall = Also known as Sensitivity , it refers to the percentage of total relevant results correctly classified by the algorithm."
   ]
  },
  {
   "cell_type": "code",
   "execution_count": null,
   "metadata": {
    "id": "T82fKE8pf7wI"
   },
   "outputs": [],
   "source": [
    "#Looking at the confusion matrix again\n",
    "\n",
    "confusion = metrics.confusion_matrix(y_train_pred_final.Converted, y_train_pred_final.predicted )\n",
    "confusion"
   ]
  },
  {
   "cell_type": "code",
   "execution_count": null,
   "metadata": {
    "id": "heMfpgqUf_Qp"
   },
   "outputs": [],
   "source": [
    "# Precision\n",
    "TP / TP + FP\n",
    "\n",
    "print(\"Precision : \",confusion[1,1]/(confusion[0,1]+confusion[1,1]))"
   ]
  },
  {
   "cell_type": "code",
   "execution_count": null,
   "metadata": {
    "id": "H4CzYgnVgDwL"
   },
   "outputs": [],
   "source": [
    "# Recall\n",
    "TP / TP + FN\n",
    "\n",
    "print(\"Recall :\",confusion[1,1]/(confusion[1,0]+confusion[1,1]))"
   ]
  },
  {
   "cell_type": "markdown",
   "metadata": {
    "id": "Ds3hikA6gHgE"
   },
   "source": [
    "Using sklearn utilities for the same"
   ]
  },
  {
   "cell_type": "code",
   "execution_count": null,
   "metadata": {
    "id": "iFCgIwR9gL3g"
   },
   "outputs": [],
   "source": [
    "from sklearn.metrics import precision_score, recall_score"
   ]
  },
  {
   "cell_type": "code",
   "execution_count": null,
   "metadata": {
    "id": "iV_IlgnGgQCb"
   },
   "outputs": [],
   "source": [
    "print(\"Precision :\",precision_score(y_train_pred_final.Converted , y_train_pred_final.predicted))"
   ]
  },
  {
   "cell_type": "code",
   "execution_count": null,
   "metadata": {
    "id": "6s8c5_R3gTgi"
   },
   "outputs": [],
   "source": [
    "print(\"Recall :\",recall_score(y_train_pred_final.Converted, y_train_pred_final.predicted))"
   ]
  },
  {
   "cell_type": "markdown",
   "metadata": {
    "id": "IqSnmoulgX4O"
   },
   "source": [
    "Precision and recall tradeoff"
   ]
  },
  {
   "cell_type": "code",
   "execution_count": null,
   "metadata": {
    "id": "nIrpPzkWgftT"
   },
   "outputs": [],
   "source": [
    "from sklearn.metrics import precision_recall_curve\n",
    "\n",
    "y_train_pred_final.Converted, y_train_pred_final.predicted"
   ]
  },
  {
   "cell_type": "code",
   "execution_count": null,
   "metadata": {
    "id": "brBISZoQgjs_"
   },
   "outputs": [],
   "source": [
    "p, r, thresholds = precision_recall_curve(y_train_pred_final.Converted, y_train_pred_final.Converted_prob)"
   ]
  },
  {
   "cell_type": "code",
   "execution_count": null,
   "metadata": {
    "id": "0pafYvdXgnCk"
   },
   "outputs": [],
   "source": [
    "# plotting a trade-off curve between precision and recall\n",
    "plt.plot(thresholds, p[:-1], \"g-\")\n",
    "plt.plot(thresholds, r[:-1], \"r-\")\n",
    "plt.show()"
   ]
  },
  {
   "cell_type": "markdown",
   "metadata": {
    "id": "i6IjVr-hgrka"
   },
   "source": [
    "**The above graph shows the trade-off between the Precision and Recall ."
   ]
  },
  {
   "cell_type": "markdown",
   "metadata": {
    "id": "vcp1WJpZgsmw"
   },
   "source": [
    "# Making predictions on the test set\n",
    "\n",
    "Scaling the test data"
   ]
  },
  {
   "cell_type": "code",
   "execution_count": null,
   "metadata": {
    "id": "YhUPcGZ-gzuJ"
   },
   "outputs": [],
   "source": [
    "X_test[['TotalVisits','Total Time Spent on Website','Page Views Per Visit']] = scaler.transform(X_test[['TotalVisits',\n",
    "                                                                                                        'Total Time Spent on Website',\n",
    "                                                                                                        'Page Views Per Visit']])"
   ]
  },
  {
   "cell_type": "code",
   "execution_count": null,
   "metadata": {
    "id": "oiz_XBlng48H"
   },
   "outputs": [],
   "source": [
    "# Assigning the columns selected by the final model to the X_test\n",
    "X_test = X_test[col1]\n",
    "X_test.head()"
   ]
  },
  {
   "cell_type": "code",
   "execution_count": null,
   "metadata": {
    "id": "oDUArz3bhBXb"
   },
   "outputs": [],
   "source": [
    "# Adding a const\n",
    "X_test_sm = sm.add_constant(X_test)\n",
    "\n",
    "# Making predictions on the test set\n",
    "y_test_pred = res.predict(X_test_sm)\n",
    "y_test_pred[:10]"
   ]
  },
  {
   "cell_type": "code",
   "execution_count": null,
   "metadata": {
    "id": "os52WxAdhO-A"
   },
   "outputs": [],
   "source": [
    "# Converting y_test_pred to a dataframe which is an array\n",
    "y_pred_1 = pd.DataFrame(y_test_pred)"
   ]
  },
  {
   "cell_type": "code",
   "execution_count": null,
   "metadata": {
    "id": "ayWygVodhQau"
   },
   "outputs": [],
   "source": [
    "# Let's see the head\n",
    "y_pred_1.head()"
   ]
  },
  {
   "cell_type": "code",
   "execution_count": null,
   "metadata": {
    "id": "c9rNNYq3hTuc"
   },
   "outputs": [],
   "source": [
    "# Converting y_test to dataframe\n",
    "y_test_df = pd.DataFrame(y_test)"
   ]
  },
  {
   "cell_type": "code",
   "execution_count": null,
   "metadata": {
    "id": "bTYiVYLChaB3"
   },
   "outputs": [],
   "source": [
    "# Putting Prospect ID to index\n",
    "y_test_df['Prospect ID'] = y_test_df.index"
   ]
  },
  {
   "cell_type": "code",
   "execution_count": null,
   "metadata": {
    "id": "PKr4oig0hdd6"
   },
   "outputs": [],
   "source": [
    "# Removing index for both dataframes to append them side by side\n",
    "y_pred_1.reset_index(drop=True, inplace=True)\n",
    "y_test_df.reset_index(drop=True, inplace=True)"
   ]
  },
  {
   "cell_type": "code",
   "execution_count": null,
   "metadata": {
    "id": "dejeFhOPhepc"
   },
   "outputs": [],
   "source": [
    "# Appending y_test_df and y_pred_1\n",
    "y_pred_final = pd.concat([y_test_df, y_pred_1],axis=1)"
   ]
  },
  {
   "cell_type": "code",
   "execution_count": null,
   "metadata": {
    "id": "KUdORnG7hilO"
   },
   "outputs": [],
   "source": [
    "y_pred_final.head()"
   ]
  },
  {
   "cell_type": "code",
   "execution_count": null,
   "metadata": {
    "id": "zZv8pWdBhpEo"
   },
   "outputs": [],
   "source": [
    "# Renaming the column\n",
    "y_pred_final= y_pred_final.rename(columns={ 0 : 'Converted_prob'})"
   ]
  },
  {
   "cell_type": "code",
   "execution_count": null,
   "metadata": {
    "id": "zVvsE23IhqBz"
   },
   "outputs": [],
   "source": [
    "# Rearranging the columns\n",
    "y_pred_final = y_pred_final.reindex(columns=['Prospect ID','Converted','Converted_prob'])"
   ]
  },
  {
   "cell_type": "code",
   "execution_count": null,
   "metadata": {
    "id": "yADftJUlhuRt"
   },
   "outputs": [],
   "source": [
    "# Let's see the head of y_pred_final\n",
    "y_pred_final.head()"
   ]
  },
  {
   "cell_type": "code",
   "execution_count": null,
   "metadata": {
    "id": "-HSvWyG7h0Ho"
   },
   "outputs": [],
   "source": [
    "y_pred_final['final_predicted'] = y_pred_final.Converted_prob.map(lambda x: 1 if x > 0.34 else 0)"
   ]
  },
  {
   "cell_type": "code",
   "execution_count": null,
   "metadata": {
    "id": "8ZWO8jdmh1Qk"
   },
   "outputs": [],
   "source": [
    "y_pred_final.head()"
   ]
  },
  {
   "cell_type": "code",
   "execution_count": null,
   "metadata": {
    "id": "TtcX52Jih7EM"
   },
   "outputs": [],
   "source": [
    "# Let's check the overall accuracy.\n",
    "print(\"Accuracy :\",metrics.accuracy_score(y_pred_final.Converted, y_pred_final.final_predicted))"
   ]
  },
  {
   "cell_type": "code",
   "execution_count": null,
   "metadata": {
    "id": "Z9Y6KfF4h-oU"
   },
   "outputs": [],
   "source": [
    "# Making the confusion matrix\n",
    "confusion2 = metrics.confusion_matrix(y_pred_final.Converted, y_pred_final.final_predicted )\n",
    "confusion2"
   ]
  },
  {
   "cell_type": "code",
   "execution_count": null,
   "metadata": {
    "id": "c0FI-odAh_64"
   },
   "outputs": [],
   "source": [
    "TP = confusion2[1,1] # true positive\n",
    "TN = confusion2[0,0] # true negatives\n",
    "FP = confusion2[0,1] # false positives\n",
    "FN = confusion2[1,0] # false negatives"
   ]
  },
  {
   "cell_type": "code",
   "execution_count": null,
   "metadata": {
    "id": "5tBp7SOmiDvq"
   },
   "outputs": [],
   "source": [
    "# Let's see the sensitivity of our logistic regression model\n",
    "print(\"Sensitivity :\",TP / float(TP+FN))"
   ]
  },
  {
   "cell_type": "code",
   "execution_count": null,
   "metadata": {
    "id": "Rw7EQD-jiHdq"
   },
   "outputs": [],
   "source": [
    "# Let us calculate specificity\n",
    "print(\"Specificity :\",TN / float(TN+FP))"
   ]
  },
  {
   "cell_type": "markdown",
   "metadata": {
    "id": "3lVLCmttiP-s"
   },
   "source": [
    "Assigning Lead Score to the Testing data"
   ]
  },
  {
   "cell_type": "code",
   "execution_count": null,
   "metadata": {
    "id": "KttaOCmwiLSe"
   },
   "outputs": [],
   "source": [
    "y_pred_final['Lead_Score'] = y_pred_final.Converted_prob.map( lambda x: round(x*100))\n",
    "\n",
    "y_pred_final.head()"
   ]
  },
  {
   "cell_type": "markdown",
   "metadata": {
    "id": "bu2gHJwDiU1p"
   },
   "source": [
    "Observations:\n",
    "\n",
    "After running the model on the Test Data , we obtain:\n",
    "\n",
    "Accuracy : 80.4 %\n",
    "\n",
    "Sensitivity : 80.4 %\n",
    "\n",
    "Specificity : 80.5 %"
   ]
  },
  {
   "cell_type": "markdown",
   "metadata": {
    "id": "o0FZVBr7iel5"
   },
   "source": [
    "Results :\n",
    "\n",
    "1) Comparing the values obtained for Train & Test:"
   ]
  },
  {
   "cell_type": "markdown",
   "metadata": {
    "id": "FzN6jFkrikLy"
   },
   "source": [
    "Train Data:\n",
    "\n",
    "Accuracy : 81.0 %\n",
    "Sensitivity : 81.7 %\n",
    "Specificity : 80.6 %\n",
    "\n",
    "Test Data:\n",
    "\n",
    "Accuracy : 80.4 %\n",
    "Sensitivity : 80.4 %\n",
    "Specificity : 80.5 %"
   ]
  },
  {
   "cell_type": "markdown",
   "metadata": {
    "id": "Uk8mNFuFiuB6"
   },
   "source": [
    "hus we have achieved our goal of getting a ballpark of the target lead conversion rate to be around 80% . The Model seems to predict the Conversion Rate very well and we should be able to give the CEO confidence in making good calls based on this model to get a higher lead conversion rate of 80%."
   ]
  },
  {
   "cell_type": "markdown",
   "metadata": {
    "id": "Hhv-DJp5ivH9"
   },
   "source": [
    "2) Finding out the leads which should be contacted:\n",
    "\n",
    "The customers which should be contacted are the customers whose \"Lead Score\" is equal to or greater than 85. They can be termed as 'Hot Leads'."
   ]
  },
  {
   "cell_type": "code",
   "execution_count": null,
   "metadata": {
    "id": "B3RIHGbei1e-"
   },
   "outputs": [],
   "source": [
    "hot_leads=y_pred_final.loc[y_pred_final[\"Lead_Score\"]>=85]\n",
    "hot_leads"
   ]
  },
  {
   "cell_type": "markdown",
   "metadata": {
    "id": "KW6wa5Xhi-3e"
   },
   "source": [
    "**So there are 368 leads which can be contacted and have a high chance of getting converted. The Prospect ID of the customers to be contacted are :**"
   ]
  },
  {
   "cell_type": "code",
   "execution_count": null,
   "metadata": {
    "id": "fV3LbPXIi5LP"
   },
   "outputs": [],
   "source": [
    "print(\"The Prospect ID of the customers which should be contacted are :\")\n",
    "\n",
    "hot_leads_ids = hot_leads[\"Prospect ID\"].values.reshape(-1)\n",
    "hot_leads_ids"
   ]
  },
  {
   "cell_type": "markdown",
   "metadata": {
    "id": "zsTeUd-BjeRI"
   },
   "source": [
    "3) Finding out the Important Features from our final model:"
   ]
  },
  {
   "cell_type": "code",
   "execution_count": null,
   "metadata": {
    "id": "ii4rY2NWjfSg"
   },
   "outputs": [],
   "source": [
    "res.params.sort_values(ascending=False)"
   ]
  },
  {
   "cell_type": "markdown",
   "metadata": {
    "id": "Emc_yBjhjmp6"
   },
   "source": [
    "# **Recommendations:**"
   ]
  },
  {
   "cell_type": "markdown",
   "metadata": {
    "id": "TWjsBKhmjpKj"
   },
   "source": [
    "The company should make calls to the leads coming from the lead sources \"Welingak Websites\" and \"Reference\" as these are more likely to get converted.\n",
    "\n",
    "The company should make calls to the leads who are the \"working professionals\" as they are more likely to get converted.\n",
    "\n",
    "The company should make calls to the leads who spent \"more time on the websites\" as these are more likely to get converted.\n",
    "\n",
    "The company should make calls to the leads coming from the lead sources \"Olark Chat\" as these are more likely to get converted.\n",
    "\n",
    "The company should make calls to the leads whose last activity was SMS Sent as they are more likely to get converted.\n",
    "\n",
    "The company should not make calls to the leads whose last activity was \"Olark Chat Conversation\" as they are not likely to get converted.\n",
    "\n",
    "The company should not make calls to the leads whose lead origin is \"Landing Page Submission\" as they are not likely to get converted.\n",
    "\n",
    "The company should not make calls to the leads whose Specialization was \"Others\" as they are not likely to get converted.\n",
    "\n",
    "The company should not make calls to the leads who chose the option of \"Do not Email\" as \"yes\" as they are not likely to get converted."
   ]
  },
  {
   "cell_type": "code",
   "execution_count": null,
   "metadata": {
    "id": "yE8yzJkKj2cR"
   },
   "outputs": [],
   "source": []
  }
 ],
 "metadata": {
  "colab": {
   "provenance": []
  },
  "kernelspec": {
   "display_name": "Python 3 (ipykernel)",
   "language": "python",
   "name": "python3"
  },
  "language_info": {
   "codemirror_mode": {
    "name": "ipython",
    "version": 3
   },
   "file_extension": ".py",
   "mimetype": "text/x-python",
   "name": "python",
   "nbconvert_exporter": "python",
   "pygments_lexer": "ipython3",
   "version": "3.11.7"
  }
 },
 "nbformat": 4,
 "nbformat_minor": 4
}
